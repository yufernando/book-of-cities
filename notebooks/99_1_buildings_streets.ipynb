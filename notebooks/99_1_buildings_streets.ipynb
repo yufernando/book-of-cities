{
 "cells": [
  {
   "cell_type": "markdown",
   "id": "98782d21-533c-4115-8b08-19f96ae386db",
   "metadata": {},
   "source": [
    "# Get Buildings and Streets\n",
    "\n",
    "Gets buildings and streets layer for visualization in QGIS."
   ]
  },
  {
   "cell_type": "markdown",
   "id": "76327f75-9f87-4911-b818-6a1798632aec",
   "metadata": {},
   "source": [
    "# Import modules"
   ]
  },
  {
   "cell_type": "code",
   "execution_count": 1,
   "id": "bd735503-89ae-4120-a93a-71dc527689e4",
   "metadata": {
    "tags": []
   },
   "outputs": [],
   "source": [
    "import geopandas as gpd\n",
    "import pandas as pd\n",
    "import osmnx as ox\n",
    "from pathlib import Path"
   ]
  },
  {
   "cell_type": "markdown",
   "id": "c87993ac-2ae3-43aa-aec8-ccb6b5b4f32e",
   "metadata": {
    "tags": []
   },
   "source": [
    "# Choose City"
   ]
  },
  {
   "cell_type": "code",
   "execution_count": 2,
   "id": "61c9263a-4515-465f-a2ad-a0d2d71bffa5",
   "metadata": {},
   "outputs": [
    {
     "name": "stdout",
     "output_type": "stream",
     "text": [
      "City: Los Angeles\n"
     ]
    }
   ],
   "source": [
    "city_list = [\n",
    "    'Melbourne',\n",
    "    'Jerusalem',\n",
    "    'Buenos Aires',\n",
    "    'Paris',\n",
    "    'Rotterdam',\n",
    "    'Nashville',\n",
    "    'Singapore',\n",
    "    'Cape Town',\n",
    "    'New York',\n",
    "    'Los Angeles',\n",
    "    'Chicago',\n",
    "    'Boston',\n",
    "    'Austin',\n",
    "    'Seattle',\n",
    "    'Philadelphia',\n",
    "    'Pittsburgh',\n",
    "    'Washington DC',\n",
    "    'San Francisco',\n",
    "    'SF Bay Area ',\n",
    "    'Raleigh',\n",
    "    'Milwaukee',\n",
    "    'Portland',\n",
    "    'San Diego',\n",
    "    'Denver',\n",
    "    'Miami',\n",
    "    'Saint Louis',\n",
    "    'Houston',\n",
    "    'Atlanta',\n",
    "    'Phoenix',\n",
    "    'Detroit',\n",
    "    'Minneapolis',\n",
    "    'Savannah',\n",
    "    'Charlotte',\n",
    "    'Las Vegas',\n",
    "    'Cincinnati',\n",
    "    'Kansas City',\n",
    "    'Nashville']\n",
    "\n",
    "\n",
    "city = city_list[9]\n",
    "print(\"City:\", city)"
   ]
  },
  {
   "cell_type": "markdown",
   "id": "1d781f65-c9c9-46e0-b189-fa9048dd3c25",
   "metadata": {
    "tags": []
   },
   "source": [
    "# Read Geopackage"
   ]
  },
  {
   "cell_type": "code",
   "execution_count": 3,
   "id": "17eb3dbb-5f48-46da-8971-4c559a4823fb",
   "metadata": {
    "tags": []
   },
   "outputs": [
    {
     "name": "stdout",
     "output_type": "stream",
     "text": [
      "Reading: ../data/admin-levels/Los Angeles.gpkg\n"
     ]
    }
   ],
   "source": [
    "data_folder = Path(\"../data/\")\n",
    "input_file = data_folder / \"0_boundaries\" / (city + \".gpkg\")\n",
    "\n",
    "gdf = gpd.read_file(input_file, driver='GPKG')\n",
    "# Force gdf projection\n",
    "print(\"Reading:\", input_file)\n",
    "gdf = ox.project_gdf(gdf,to_crs='epsg:4326',to_latlong=False) "
   ]
  },
  {
   "cell_type": "code",
   "execution_count": 4,
   "id": "d702ae60-de1b-45a9-8c15-a8e9a2b62e12",
   "metadata": {
    "tags": []
   },
   "outputs": [
    {
     "data": {
      "text/plain": [
       "<Axes: >"
      ]
     },
     "execution_count": 4,
     "metadata": {},
     "output_type": "execute_result"
    },
    {
     "data": {
      "image/png": "[encoded data removed]",
      "text/plain": [
       "<Figure size 640x480 with 1 Axes>"
      ]
     },
     "metadata": {},
     "output_type": "display_data"
    }
   ],
   "source": [
    "gdf.plot()"
   ]
  },
  {
   "cell_type": "markdown",
   "id": "10c7698a-d9a4-4eba-b175-59f8e0957e3b",
   "metadata": {
    "tags": []
   },
   "source": [
    "# Get Master polygon"
   ]
  },
  {
   "cell_type": "code",
   "execution_count": 5,
   "id": "3e68ede4-e424-432b-8f92-5a04cf2b7ecb",
   "metadata": {
    "tags": []
   },
   "outputs": [],
   "source": [
    "# Create unique ID\n",
    "gdf = gdf.reset_index(drop=True)\n",
    "gdf['UID'] = gdf.index\n",
    "\n",
    "# Establish bounds DataFrame (everything so we can do one query)\n",
    "gdf['collapse'] = 0\n",
    "gdf_collapsed = gdf.dissolve(by='collapse')"
   ]
  },
  {
   "cell_type": "markdown",
   "id": "f39a163e-7823-4cfd-8799-cbc5c047eef3",
   "metadata": {
    "tags": []
   },
   "source": [
    "# Get Streets"
   ]
  },
  {
   "cell_type": "code",
   "execution_count": 6,
   "id": "ec02c945-c4a1-4f3d-9ff0-9f9142f4245c",
   "metadata": {
    "tags": []
   },
   "outputs": [
    {
     "name": "stdout",
     "output_type": "stream",
     "text": [
      "Saved: ../data/city-form/Los Angeles - streets.gpkg\n"
     ]
    }
   ],
   "source": [
    "G = ox.graph_from_polygon(gdf_collapsed['geometry'][0], network_type='drive', retain_all=True) \n",
    "out_file = data_folder / \"1_buildings_streets\" / (city + \" - streets.gpkg\")\n",
    "ox.save_graph_geopackage(G, filepath=out_file)\n",
    "print(\"Saved:\", out_file)"
   ]
  },
  {
   "cell_type": "markdown",
   "id": "34417e5e-7553-49b0-8179-b95a2e111217",
   "metadata": {
    "tags": []
   },
   "source": [
    "# Get Buildings"
   ]
  },
  {
   "cell_type": "code",
   "execution_count": 7,
   "id": "70dfbaa3-69f9-4ce6-8b3c-c58563035c97",
   "metadata": {
    "tags": []
   },
   "outputs": [
    {
     "name": "stderr",
     "output_type": "stream",
     "text": [
      "/tmp/ipykernel_88963/1735009070.py:2: UserWarning: The `geometries` module and `geometries_from_X` functions have been renamed the `features` module and `features_from_X` functions. Use these instead. The `geometries` module and function names are deprecated and will be removed in a future release.\n",
      "  buildings = ox.geometries_from_polygon(gdf_collapsed['geometry'][0], tags)\n",
      "/tmp/ipykernel_88963/1735009070.py:4: PerformanceWarning: dropping on a non-lexsorted multi-index without a level parameter may impact performance.\n",
      "  buildings_save = buildings.drop(labels=\"node\", axis=0)\n"
     ]
    },
    {
     "name": "stdout",
     "output_type": "stream",
     "text": [
      "Saved: ../data/city-form/Los Angeles - buildings.gpkg\n"
     ]
    }
   ],
   "source": [
    "tags = {\"building\": True}\n",
    "buildings = ox.geometries_from_polygon(gdf_collapsed['geometry'][0], tags)\n",
    "buildings = buildings[['geometry','name']]\n",
    "buildings_save = buildings.drop(labels=\"node\", axis=0)\n",
    "\n",
    "# Save\n",
    "out_file = data_folder / \"1_buildings_streets\" / (city + \" - buildings.gpkg\")\n",
    "buildings_save.to_file(out_file, driver='GPKG')\n",
    "print(\"Saved:\", out_file)"
   ]
  },
  {
   "cell_type": "code",
   "execution_count": null,
   "id": "603cf05d-fa2e-45af-8f59-72f46c4594a4",
   "metadata": {},
   "outputs": [],
   "source": []
  }
 ],
 "metadata": {
  "kernelspec": {
   "display_name": "Python 3 (ipykernel)",
   "language": "python",
   "name": "python3"
  },
  "language_info": {
   "codemirror_mode": {
    "name": "ipython",
    "version": 3
   },
   "file_extension": ".py",
   "mimetype": "text/x-python",
   "name": "python",
   "nbconvert_exporter": "python",
   "pygments_lexer": "ipython3",
   "version": "3.10.11"
  }
 },
 "nbformat": 4,
 "nbformat_minor": 5
}
