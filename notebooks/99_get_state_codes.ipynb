{
 "cells": [
  {
   "cell_type": "markdown",
   "id": "23fb4886-c4aa-441d-b473-39603ff896e7",
   "metadata": {},
   "source": [
    "# Get State codes\n",
    "\n",
    "Cleans state codes from [US census website](https://www2.census.gov/geo/tiger/TIGER_RD18/STATE/)"
   ]
  },
  {
   "cell_type": "markdown",
   "id": "711f5c52-6b97-4cf8-a5fd-473ca9778a24",
   "metadata": {},
   "source": [
    "# Import packages"
   ]
  },
  {
   "cell_type": "code",
   "execution_count": 19,
   "id": "8c572367-8f7e-4fbc-b1a1-8884d4364bfe",
   "metadata": {
    "tags": []
   },
   "outputs": [],
   "source": [
    "import pandas as pd"
   ]
  },
  {
   "cell_type": "markdown",
   "id": "afae154a-bff5-4fbf-9c24-4ffdaacb6f97",
   "metadata": {},
   "source": [
    "# Create String"
   ]
  },
  {
   "cell_type": "code",
   "execution_count": 5,
   "id": "a7fa5a0e-ad6f-43cc-af79-000097ae94b6",
   "metadata": {
    "tags": []
   },
   "outputs": [],
   "source": [
    "mystring = \"\"\"\n",
    "01_ALABAMA\t\n",
    "02_ALASKA \n",
    "04_ARIZONA \n",
    "05_ARKANSAS \n",
    "06_CALIFORNIA \n",
    "08_COLORADO \n",
    "09_CONNECTICUT \n",
    "0_DELAWARE \n",
    "11_DISTRICT_OF_COLUMBIA \n",
    "12_FLORIDA \n",
    "13_GEORGIA \n",
    "15_HAWAII \n",
    "16_IDAHO \n",
    "17_ILLINOIS \n",
    "18_INDIANA \n",
    "19_IOWA \n",
    "20_KANSAS \n",
    "21_KENTUCKY \n",
    "22_LOUISIANA \n",
    "23_MAINE \n",
    "24_MARYLAND \n",
    "25_MASSACHUSETTS \n",
    "26_MICHIGAN \n",
    "27_MINNESOTA \n",
    "28_MISSISSIPPI \n",
    "29_MISSOURI \n",
    "30_MONTANA \n",
    "31_NEBRASKA \n",
    "32_NEVADA \n",
    "33_NEW_HAMPSHIRE \n",
    "34_NEW_JERSEY \n",
    "35_NEW_MEXICO \n",
    "36_NEW_YORK \n",
    "37_NORTH_CAROLINA \n",
    "38_NORTH_DAKOTA \n",
    "39_OHIO \n",
    "40_OKLAHOMA \n",
    "41_OREGON \n",
    "42_PENNSYLVANIA \n",
    "44_RHODE_ISLAND \n",
    "45_SOUTH_CAROLINA \n",
    "46_SOUTH_DAKOTA \n",
    "47_TENNESSEE \n",
    "48_TEXAS \n",
    "49_UTAH \n",
    "50_VERMONT \n",
    "51_VIRGINIA \n",
    "53_WASHINGTON \n",
    "54_WEST_VIRGINIA \n",
    "55_WISCONSIN \n",
    "56_WYOMING \n",
    "60_AMERICAN_SAMOA \n",
    "66_GUAM \n",
    "69_COMMONWEALTH_OF_THE_NORTHERN_MARIANA_ISLANDS \n",
    "72_PUERTO_RICO \n",
    "78_UNITED_STATES_VIRGIN_ISLANDS\n",
    "\"\"\""
   ]
  },
  {
   "cell_type": "markdown",
   "id": "cd18f5d7-4c38-4442-82f7-abc73405fe2a",
   "metadata": {},
   "source": [
    "# Create DataFrame"
   ]
  },
  {
   "cell_type": "code",
   "execution_count": 35,
   "id": "c381ab5f-0046-456b-a8fe-125edfb665aa",
   "metadata": {
    "tags": []
   },
   "outputs": [],
   "source": [
    "mydict = {}\n",
    "for line in mystring.strip().split(\"\\n\"):\n",
    "    number, state= line.strip().split(\"_\", 1)\n",
    "    mydict[state]=number\n",
    "\n",
    "df = pd.DataFrame.from_dict(mydict, orient='index')\n",
    "df = df.reset_index()\n",
    "df.columns = [\"state\", \"code\"]\n",
    "df.to_csv(\"state_codes.csv\", index=False)"
   ]
  }
 ],
 "metadata": {
  "kernelspec": {
   "display_name": "Python 3 (ipykernel)",
   "language": "python",
   "name": "python3"
  },
  "language_info": {
   "codemirror_mode": {
    "name": "ipython",
    "version": 3
   },
   "file_extension": ".py",
   "mimetype": "text/x-python",
   "name": "python",
   "nbconvert_exporter": "python",
   "pygments_lexer": "ipython3",
   "version": "3.10.11"
  }
 },
 "nbformat": 4,
 "nbformat_minor": 5
}
