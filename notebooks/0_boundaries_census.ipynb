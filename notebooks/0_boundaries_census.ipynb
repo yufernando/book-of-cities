{
 "cells": [
  {
   "cell_type": "markdown",
   "id": "c5e45ebf-2779-41a3-83db-1938f25a431f",
   "metadata": {
    "tags": []
   },
   "source": [
    "# Download Census Tracts\n",
    "\n",
    "Downloads census tracts from [US Census FTP server: TIGER/Line Shapefiles by Layer.](https://www2.census.gov/geo/tiger/TIGER_RD18/LAYER/TRACT/)"
   ]
  },
  {
   "cell_type": "markdown",
   "id": "c1c71b8b-6d9c-44d6-87a8-2e6f28919bf2",
   "metadata": {},
   "source": [
    "# Import modules"
   ]
  },
  {
   "cell_type": "code",
   "execution_count": 108,
   "id": "6887c145-799b-44ec-80a2-a53d2d3658c3",
   "metadata": {
    "tags": []
   },
   "outputs": [],
   "source": [
    "from pathlib import Path\n",
    "import pandas as pd\n",
    "import requests"
   ]
  },
  {
   "cell_type": "markdown",
   "id": "8f2359d0-6bad-4d71-bd9b-c39ea5f0adb9",
   "metadata": {},
   "source": [
    "# Get data"
   ]
  },
  {
   "cell_type": "markdown",
   "id": "8058da67-917f-42dc-a9d4-f01b839c7484",
   "metadata": {},
   "source": [
    "## List of cities"
   ]
  },
  {
   "cell_type": "code",
   "execution_count": 109,
   "id": "3341bc9d-8b6d-41c6-b13c-8fefccf477b4",
   "metadata": {
    "tags": []
   },
   "outputs": [],
   "source": [
    "# List of cities\n",
    "city_list = [\n",
    "    'New York, New York',\n",
    "    'Los Angeles, California',\n",
    "    'Chicago, Illinois',\n",
    "    'Boston, Massachusetts',\n",
    "    'Austin, Texas',\n",
    "    'Seattle, Washington',\n",
    "    'Philadelphia, Pennsylvania',\n",
    "    'Pittsburgh, Pennsylvania',\n",
    "    'Washington DC, District of Columbia',\n",
    "    'San Francisco, California',\n",
    "    'SF Bay Area, California',\n",
    "    'Raleigh, North Carolina',\n",
    "    'Milwaukee, Wisconsin',\n",
    "    'Portland, Oregon',\n",
    "    'San Diego, California',\n",
    "    'Denver, Colorado',\n",
    "    'Miami, Florida',\n",
    "    'Saint Louis, Missouri',\n",
    "    'Houston, Texas',\n",
    "    'Atlanta, Georgia',\n",
    "    'Phoenix, Arizona',\n",
    "    'Detroit, Michigan',\n",
    "    'Minneapolis, Minnesota',\n",
    "    'Savannah, Georgia',\n",
    "    'Charlotte, North Carolina',\n",
    "    'Las Vegas, Nevada',\n",
    "    'Cincinnati, Ohio',\n",
    "    'Kansas City, Kansas',\n",
    "    'Nashville, Tennessee']"
   ]
  },
  {
   "cell_type": "markdown",
   "id": "77a8551d-df5f-48a5-92d1-ae26ddfe74d1",
   "metadata": {},
   "source": [
    "## Get set of state codes based on requested cities"
   ]
  },
  {
   "cell_type": "code",
   "execution_count": 110,
   "id": "6b20b82e-923e-457b-9586-a4e46932033b",
   "metadata": {
    "tags": []
   },
   "outputs": [],
   "source": [
    "df = pd.read_csv('state_codes.csv', dtype={'code':'str'})\n",
    "\n",
    "code_set = set()\n",
    "for city in city_list:\n",
    "    _, state = city.split(\",\")\n",
    "    state = state.strip().upper()\n",
    "    if len(state.split()) > 1:\n",
    "        state = state.replace(\" \",\"_\")\n",
    "    state_code = df.loc[df['state']==state.upper(), 'code'].values[0]\n",
    "    code_set.add((state,state_code))"
   ]
  },
  {
   "cell_type": "markdown",
   "id": "a31f2301-2bf8-4c30-854c-a9af5648e9ab",
   "metadata": {},
   "source": [
    "# Download data"
   ]
  },
  {
   "cell_type": "code",
   "execution_count": 111,
   "id": "560a65bd-94af-4ef2-b6cc-d916bab1ac7f",
   "metadata": {
    "tags": []
   },
   "outputs": [],
   "source": [
    "def download_zip_file(url, save_path):\n",
    "    response = requests.get(url, stream=True)\n",
    "    if response.status_code == 200:\n",
    "        with open(save_path, 'wb') as file:\n",
    "            for chunk in response.iter_content(chunk_size=128):\n",
    "                file.write(chunk)\n",
    "        print(\"Download complete:\", save_path)\n",
    "    else:\n",
    "        print(f\"Failed to download the file. Status code: {response.status_code}\")\n",
    "\n",
    "url_stem = \"https://www2.census.gov/geo/tiger/TIGER_RD18/LAYER/TRACT/\"\n",
    "save_path_stem = Path(\"../data/0_boundaries/raw/\")\n",
    "\n",
    "for code in code_set:\n",
    "    filename = f\"tl_rd22_{code[1]}_tract.zip\"\n",
    "    \n",
    "    url = url_stem + filename\n",
    "    save_path = save_path_stem / f\"{code[0]}.zip\"\n",
    "    \n",
    "    print(\"Downloading:\", url)\n",
    "    download_zip_file(url, save_path)"
   ]
  },
  {
   "cell_type": "markdown",
   "id": "a713fd22-7120-41b0-85b7-467018f0f73a",
   "metadata": {},
   "source": [
    "# Unzip all files"
   ]
  },
  {
   "cell_type": "code",
   "execution_count": 130,
   "id": "bba049b3-cc17-46a2-877a-597b53a10160",
   "metadata": {
    "tags": []
   },
   "outputs": [
    {
     "name": "stdout",
     "output_type": "stream",
     "text": [
      "Unzipped into: ../data/0_boundaries/raw/ARIZONA\n",
      "Unzipped into: ../data/0_boundaries/raw/CALIFORNIA\n",
      "Unzipped into: ../data/0_boundaries/raw/COLORADO\n",
      "Unzipped into: ../data/0_boundaries/raw/DISTRICT_OF_COLUMBIA\n",
      "Unzipped into: ../data/0_boundaries/raw/FLORIDA\n",
      "Unzipped into: ../data/0_boundaries/raw/GEORGIA\n",
      "Unzipped into: ../data/0_boundaries/raw/ILLINOIS\n",
      "Unzipped into: ../data/0_boundaries/raw/KANSAS\n",
      "Unzipped into: ../data/0_boundaries/raw/MASSACHUSETTS\n",
      "Unzipped into: ../data/0_boundaries/raw/MICHIGAN\n",
      "Unzipped into: ../data/0_boundaries/raw/MINNESOTA\n",
      "Unzipped into: ../data/0_boundaries/raw/MISSOURI\n",
      "Unzipped into: ../data/0_boundaries/raw/NEVADA\n",
      "Unzipped into: ../data/0_boundaries/raw/NEW_YORK\n",
      "Unzipped into: ../data/0_boundaries/raw/NORTH_CAROLINA\n",
      "Unzipped into: ../data/0_boundaries/raw/OHIO\n",
      "Unzipped into: ../data/0_boundaries/raw/OREGON\n",
      "Unzipped into: ../data/0_boundaries/raw/PENNSYLVANIA\n",
      "Unzipped into: ../data/0_boundaries/raw/TENNESSEE\n",
      "Unzipped into: ../data/0_boundaries/raw/TEXAS\n",
      "Unzipped into: ../data/0_boundaries/raw/WASHINGTON\n",
      "Unzipped into: ../data/0_boundaries/raw/WISCONSIN\n"
     ]
    }
   ],
   "source": [
    "for file in save_path_stem.iterdir():\n",
    "    if file.suffix == \".zip\":\n",
    "        with zipfile.ZipFile(file, 'r') as zip_ref:\n",
    "            zip_ref.extractall(save_path_stem / file.stem)\n",
    "            print(\"Unzipped into:\", save_path_stem / file.stem)"
   ]
  }
 ],
 "metadata": {
  "kernelspec": {
   "display_name": "Python 3 (ipykernel)",
   "language": "python",
   "name": "python3"
  },
  "language_info": {
   "codemirror_mode": {
    "name": "ipython",
    "version": 3
   },
   "file_extension": ".py",
   "mimetype": "text/x-python",
   "name": "python",
   "nbconvert_exporter": "python",
   "pygments_lexer": "ipython3",
   "version": "3.10.11"
  }
 },
 "nbformat": 4,
 "nbformat_minor": 5
}
