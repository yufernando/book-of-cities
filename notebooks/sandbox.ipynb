{
 "cells": [
  {
   "cell_type": "markdown",
   "id": "cabd712b-bcdc-4aa6-a37b-f1422d4cbb10",
   "metadata": {},
   "source": [
    "# Sandbox \n",
    "\n",
    "Sandbox for outputting to csv"
   ]
  },
  {
   "cell_type": "code",
   "execution_count": 1,
   "id": "44c270f6-5fe5-4105-92cc-ee00a2732363",
   "metadata": {},
   "outputs": [],
   "source": [
    "from pathlib import Path\n",
    "import pandas as pd"
   ]
  },
  {
   "cell_type": "code",
   "execution_count": 2,
   "id": "21a0bfe9-fa3c-4e2e-bfd4-40837bed2058",
   "metadata": {},
   "outputs": [],
   "source": [
    "data_folder = Path(\"../data/\")"
   ]
  },
  {
   "cell_type": "code",
   "execution_count": null,
   "id": "d193c9b6-9d99-42ec-8738-94061b5f8e9b",
   "metadata": {},
   "outputs": [],
   "source": [
    "# Concatenate all files in the 2_morphometrics folder\n",
    "morpho_folder = data_folder / \"2_morphometrics\"\n",
    "csv_folder = data_folder / \"4_csv\"\n",
    "out_csv = csv_folder / \"Morphometrics.csv\"\n",
    "df = pd.read_csv(out_csv)\n",
    "\n",
    "if df[\"city\"].nunique() > len(city_list):\n",
    "    logger.info(\"CSV exists and has more cities. Skipping.\")\n",
    "    return\n",
    "\n",
    "df_full = pd.DataFrame()\n",
    "for file in morpho_folder.iterdir():\n",
    "    if \" - morpho.gpkg\" in file.name:\n",
    "        city_name = file.stem.split(\" - morpho\")[0].strip()\n",
    "        gdf = gpd.read_file(file)\n",
    "        gdf[\"city\"] = city_name\n",
    "        df_full = pd.concat([df_full, gdf])\n",
    "\n",
    "# Save\n",
    "df_full.to_csv(out_csv, index=None)\n",
    "logger.info(\"CSV: Saved %s\", out_csv)"
   ]
  },
  {
   "cell_type": "markdown",
   "id": "f027e479-2b54-4212-9a77-ee7f409264cd",
   "metadata": {},
   "source": [
    "# Generate tests"
   ]
  },
  {
   "cell_type": "code",
   "execution_count": 18,
   "id": "8395a3b8-c22e-4ae4-b3ac-2fbe7c783481",
   "metadata": {
    "tags": []
   },
   "outputs": [],
   "source": [
    "import sys\n",
    "sys.path.append(\"..\")\n",
    "from pathlib import Path\n",
    "import geopandas as gpd\n",
    "import osmnx as ox\n",
    "\n",
    "import networkx as nx\n",
    "from morpho.layers import clean_gdf, get_graph, get_polygons"
   ]
  }
 ],
 "metadata": {
  "kernelspec": {
   "display_name": "Python 3 (ipykernel)",
   "language": "python",
   "name": "python3"
  },
  "language_info": {
   "codemirror_mode": {
    "name": "ipython",
    "version": 3
   },
   "file_extension": ".py",
   "mimetype": "text/x-python",
   "name": "python",
   "nbconvert_exporter": "python",
   "pygments_lexer": "ipython3",
   "version": "3.11.7"
  }
 },
 "nbformat": 4,
 "nbformat_minor": 5
}
