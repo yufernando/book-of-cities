{
 "cells": [
  {
   "cell_type": "markdown",
   "id": "cabd712b-bcdc-4aa6-a37b-f1422d4cbb10",
   "metadata": {},
   "source": [
    "# Sandbox \n",
    "\n",
    "Sandbox for main python scripts"
   ]
  },
  {
   "cell_type": "markdown",
   "id": "f027e479-2b54-4212-9a77-ee7f409264cd",
   "metadata": {},
   "source": [
    "# Generate tests"
   ]
  },
  {
   "cell_type": "code",
   "execution_count": 18,
   "id": "8395a3b8-c22e-4ae4-b3ac-2fbe7c783481",
   "metadata": {
    "tags": []
   },
   "outputs": [],
   "source": [
    "import sys\n",
    "sys.path.append(\"..\")\n",
    "from pathlib import Path\n",
    "import geopandas as gpd\n",
    "import osmnx as ox\n",
    "\n",
    "import networkx as nx\n",
    "from morpho.layers import clean_gdf, get_graph, get_polygons"
   ]
  },
  {
   "cell_type": "code",
   "execution_count": 19,
   "id": "b0a946ec-324f-44de-9ad5-c7205aef7093",
   "metadata": {
    "tags": []
   },
   "outputs": [],
   "source": [
    "city = \"Raleigh\""
   ]
  },
  {
   "cell_type": "code",
   "execution_count": 20,
   "id": "a5590e07-c775-4599-8002-7545285e2337",
   "metadata": {
    "tags": []
   },
   "outputs": [],
   "source": [
    "data_folder = Path(\"../../data\")"
   ]
  },
  {
   "cell_type": "code",
   "execution_count": 21,
   "id": "92118380-c44d-4611-93db-4d277b7bba29",
   "metadata": {
    "tags": []
   },
   "outputs": [],
   "source": [
    "def get_polygons(city):\n",
    "    input_file = data_folder / \"0_boundaries\" / city / (city + \".gpkg\")\n",
    "\n",
    "    gdf = gpd.read_file(input_file, driver=\"GPKG\")\n",
    "    if len(gdf) > 200:\n",
    "        raise ValueError(f\"File too large: {len(gdf)} polygons.\")\n",
    "\n",
    "    # Force gdf projection\n",
    "    gdf = ox.project_gdf(gdf, to_crs=\"epsg:4326\", to_latlong=False)\n",
    "\n",
    "    # Create unique ID\n",
    "    gdf = gdf.reset_index(drop=True)\n",
    "    gdf[\"UID\"] = gdf.index\n",
    "\n",
    "    gdf[\"collapse\"] = 0\n",
    "    gdf_collapsed = gdf.dissolve(by=\"collapse\")\n",
    "\n",
    "    return gdf, gdf_collapsed"
   ]
  },
  {
   "cell_type": "code",
   "execution_count": 22,
   "id": "f4b3846b-1b73-464b-b211-0ae7eb5f04e2",
   "metadata": {
    "tags": []
   },
   "outputs": [
    {
     "name": "stdout",
     "output_type": "stream",
     "text": [
      "  STATEFP COUNTYFP TRACTCE        GEOID    NAME             NAMELSAD  MTFCC   \n",
      "0      37      183  052704  37183052704  527.04  Census Tract 527.04  G5020  \\\n",
      "1      37      183  053724  37183053724  537.24  Census Tract 537.24  G5020   \n",
      "2      37      183  051502  37183051502  515.02  Census Tract 515.02  G5020   \n",
      "3      37      183  051102  37183051102  511.02  Census Tract 511.02  G5020   \n",
      "4      37      183  052407  37183052407  524.07  Census Tract 524.07  G5020   \n",
      "\n",
      "  FUNCSTAT    ALAND  AWATER     INTPTLAT      INTPTLON   \n",
      "0        S  2922352   30951  +35.8408976  -078.5922622  \\\n",
      "1        S  5862051   77679  +35.8979250  -078.7499213   \n",
      "2        S  2675640       0  +35.8087069  -078.6831384   \n",
      "3        S  1738787       0  +35.7819418  -078.6658270   \n",
      "4        S  3592937   24403  +35.7846005  -078.7100677   \n",
      "\n",
      "                                            geometry  UID  collapse   \n",
      "0  MULTIPOLYGON (((-78.60592 35.83491, -78.60589 ...    0         0  \\\n",
      "1  MULTIPOLYGON (((-78.76784 35.89715, -78.76783 ...    1         0   \n",
      "2  MULTIPOLYGON (((-78.69378 35.80844, -78.69378 ...    2         0   \n",
      "3  MULTIPOLYGON (((-78.67885 35.78215, -78.67881 ...    3         0   \n",
      "4  MULTIPOLYGON (((-78.72297 35.77051, -78.72292 ...    4         0   \n",
      "\n",
      "         lon        lat  \n",
      "0 -78.593659  35.841575  \n",
      "1 -78.742604  35.893003  \n",
      "2 -78.683138  35.808707  \n",
      "3 -78.665827  35.781942  \n",
      "4 -78.709805  35.784535  \n"
     ]
    }
   ],
   "source": [
    "city = \"Raleigh\"\n",
    "gdf, gdf_collapsed = get_polygons(city)\n",
    "gdf = gdf.head()\n",
    "gdf = clean_gdf(gdf)\n",
    "print(gdf)"
   ]
  },
  {
   "cell_type": "code",
   "execution_count": 23,
   "id": "b66285ea-22b6-4ead-bcb0-6913f4bdf532",
   "metadata": {
    "tags": []
   },
   "outputs": [],
   "source": [
    "def test_missing_lat():\n",
    "    \"\"\"Test that missing latitude is below 10%\"\"\"\n",
    "    missing_lon = gdf[\"lat\"].isna().sum()\n",
    "    assert missing_lon / len(gdf) < 0.1\n",
    "\n",
    "\n",
    "def test_missing_lon():\n",
    "    \"\"\"Test that missing longitude is below 10%\"\"\"\n",
    "    missing_lon = gdf[\"lon\"].isna().sum()\n",
    "    assert missing_lon / len(gdf) < 0.1"
   ]
  },
  {
   "cell_type": "code",
   "execution_count": 30,
   "id": "4c36b586-1c6d-4e7d-8df4-8272a4251df9",
   "metadata": {
    "tags": []
   },
   "outputs": [
    {
     "data": {
      "image/svg+xml": [
       "<svg xmlns=\"http://www.w3.org/2000/svg\" xmlns:xlink=\"http://www.w3.org/1999/xlink\" width=\"100.0\" height=\"100.0\" viewBox=\"-78.60713956 35.83328644 0.03230711999999869 0.017730119999995964\" preserveAspectRatio=\"xMinYMin meet\"><g transform=\"matrix(1,0,0,-1,0,71.684303)\"><g><path fill-rule=\"evenodd\" fill=\"#66cc99\" stroke=\"#555555\" stroke-width=\"0.0006461423999999738\" opacity=\"0.6\" d=\"M -78.605919,35.834911 L -78.605891,35.835037 L -78.605823,35.835342 L -78.605777,35.835606999999996 L -78.605712,35.835982 L -78.60569799999999,35.836058 L -78.605407,35.837665 L -78.605308,35.838204999999995 L -78.60522499999999,35.838664 L -78.605175,35.83892 L -78.60508399999999,35.839946 L -78.605069,35.840241999999996 L -78.60506699999999,35.840281999999995 L -78.605075,35.840627999999995 L -78.605091,35.841097 L -78.605153,35.841879 L -78.60516799999999,35.842774 L -78.60516799999999,35.842943 L -78.60516899999999,35.843143999999995 L -78.605143,35.844028 L -78.60512899999999,35.844217 L -78.605121,35.844339 L -78.605102,35.84459 L -78.605076,35.844837 L -78.605049,35.845118 L -78.60498799999999,35.845535999999996 L -78.604912,35.84594 L -78.60480799999999,35.846496 L -78.604711,35.84688 L -78.604642,35.847144 L -78.604554,35.847485 L -78.604539,35.847543 L -78.60448099999999,35.847774 L -78.60447099999999,35.847818 L -78.60426799999999,35.848455 L -78.604196,35.848682 L -78.60416,35.848776 L -78.604053,35.849058 L -78.604018,35.849153 L -78.603966,35.849285 L -78.60391899999999,35.849408 L -78.60381699999999,35.849686 L -78.603768,35.84982 L -78.60364799999999,35.849779 L -78.60332799999999,35.849672 L -78.602826,35.849506 L -78.602021,35.849198 L -78.60184,35.849129 L -78.601585,35.849042 L -78.60123399999999,35.848955 L -78.600832,35.848856 L -78.600178,35.848715999999996 L -78.599825,35.848641 L -78.599678,35.848618 L -78.599237,35.848552 L -78.59908999999999,35.84853 L -78.598911,35.848498 L -78.59837499999999,35.848403 L -78.598197,35.848372 L -78.59813199999999,35.848361 L -78.597939,35.848331 L -78.597875,35.848321 L -78.597805,35.84831 L -78.59759799999999,35.848276999999996 L -78.597529,35.848267 L -78.59725,35.848242 L -78.596413,35.848168 L -78.59613499999999,35.848144 L -78.595917,35.848113 L -78.595264,35.848022 L -78.595047,35.847992 L -78.594882,35.847975 L -78.59438999999999,35.847925 L -78.59422599999999,35.847909 L -78.593927,35.847878 L -78.593299,35.847815 L -78.59308899999999,35.8478 L -78.593032,35.847802 L -78.592733,35.847814 L -78.592218,35.847874999999995 L -78.592136,35.847885 L -78.591481,35.848079 L -78.590738,35.84834 L -78.59025,35.848512 L -78.590171,35.848292 L -78.59013,35.848062999999996 L -78.590115,35.847978 L -78.59012,35.847922 L -78.590143,35.847695 L -78.59040399999999,35.846917 L -78.590469,35.84672 L -78.59061799999999,35.846278999999996 L -78.58994,35.846156 L -78.58790599999999,35.84579 L -78.587229,35.845667999999996 L -78.586754,35.84558 L -78.58533,35.845316 L -78.584856,35.845228999999996 L -78.58469099999999,35.845199 L -78.584197,35.845109 L -78.58403299999999,35.845079999999996 L -78.583968,35.845068 L -78.58377399999999,35.845033 L -78.58371,35.845022 L -78.583443,35.844972999999996 L -78.58264199999999,35.844829 L -78.582375,35.844781 L -78.582297,35.844767 L -78.582066,35.844725 L -78.581989,35.844711 L -78.581923,35.844699 L -78.581726,35.844663 L -78.581661,35.844651999999996 L -78.58129,35.844604 L -78.580894,35.844553 L -78.580174,35.844512 L -78.58006999999999,35.844507 L -78.579801,35.844494999999995 L -78.579523,35.844477999999995 L -78.579009,35.844448 L -78.57869099999999,35.844406 L -78.578559,35.844366 L -78.578424,35.844332 L -78.57829699999999,35.844274 L -78.578036,35.844139999999996 L -78.57790899999999,35.844058 L -78.577815,35.843998 L -78.57780199999999,35.84399 L -78.577681,35.843906 L -78.577564,35.843806 L -78.57735199999999,35.843641999999996 L -78.577326,35.843621999999996 L -78.577079,35.843373 L -78.57695199999999,35.843226 L -78.576843,35.84308 L -78.576065,35.841952 L -78.57602899999999,35.841896999999996 L -78.57665999999999,35.841612 L -78.576707,35.84159 L -78.578396,35.840832 L -78.578565,35.840745 L -78.578732,35.840648 L -78.57884899999999,35.840582 L -78.579084,35.840434 L -78.57919799999999,35.84035 L -78.579309,35.840261999999996 L -78.579346,35.840229 L -78.579409,35.840171 L -78.579431,35.840151999999996 L -78.57953599999999,35.840066 L -78.579606,35.840002 L -78.57967,35.839945 L -78.579756,35.839844 L -78.57992899999999,35.839622 L -78.57994,35.839605 L -78.579999,35.839521 L -78.58013799999999,35.839299 L -78.580441,35.838730999999996 L -78.58058,35.838473 L -78.580786,35.838091 L -78.58086,35.837938 L -78.580895,35.837866999999996 L -78.580996,35.837691 L -78.581082,35.837499 L -78.581187,35.837327 L -78.581565,35.837444 L -78.581685,35.837475 L -78.581895,35.837531 L -78.582391,35.837610999999995 L -78.582987,35.837632 L -78.58309,35.83762 L -78.583561,35.837568 L -78.583888,35.83751 L -78.58432499999999,35.837434 L -78.584868,35.837323 L -78.585194,35.837257 L -78.58545,35.837185999999996 L -78.585758,35.837103 L -78.58619399999999,35.836901999999995 L -78.58643699999999,35.836791 L -78.586643,35.836709 L -78.58726399999999,35.836464 L -78.587471,35.836383 L -78.587623,35.836315 L -78.588081,35.836115 L -78.588409,35.835972 L -78.588414,35.835985 L -78.588476,35.835938999999996 L -78.588675,35.835876 L -78.58903099999999,35.835764 L -78.589496,35.835651999999996 L -78.589773,35.835586 L -78.589951,35.835553 L -78.590231,35.835502999999996 L -78.590488,35.83546 L -78.590668,35.835431 L -78.590965,35.83537 L -78.591291,35.835336999999996 L -78.591651,35.835344 L -78.591841,35.835355 L -78.592136,35.835374 L -78.592332,35.835409999999996 L -78.592607,35.835460999999995 L -78.592913,35.835558999999996 L -78.593104,35.835620999999996 L -78.593622,35.835716999999995 L -78.593822,35.835727999999996 L -78.593958,35.835736 L -78.59433,35.835743 L -78.594709,35.835709 L -78.594815,35.835692 L -78.595512,35.835584 L -78.59599,35.835513999999996 L -78.596711,35.835411 L -78.596892,35.835378999999996 L -78.597436,35.835287 L -78.597618,35.835256 L -78.597675,35.835246999999995 L -78.597849,35.835224 L -78.59790699999999,35.835217 L -78.59814999999999,35.835183 L -78.59888099999999,35.835083 L -78.599125,35.835049999999995 L -78.599746,35.834969 L -78.60161099999999,35.83473 L -78.602233,35.834649999999996 L -78.602976,35.834557 L -78.603377,35.834506999999995 L -78.60358099999999,35.834492 L -78.603864,35.834483 L -78.604044,35.834486999999996 L -78.604203,35.8345 L -78.604573,35.834543 L -78.605205,35.834668 L -78.60552299999999,35.834731999999995 L -78.605943,35.834804 L -78.605919,35.834911 z\" /></g></g></svg>"
      ],
      "text/plain": [
       "<MULTIPOLYGON (((-78.606 35.835, -78.606 35.835, -78.606 35.835, -78.606 35....>"
      ]
     },
     "execution_count": 30,
     "metadata": {},
     "output_type": "execute_result"
    }
   ],
   "source": [
    "gdf['geometry'][0]"
   ]
  },
  {
   "cell_type": "code",
   "execution_count": 32,
   "id": "79b282f9-eca3-4a5c-814e-99fc97dd513e",
   "metadata": {
    "tags": []
   },
   "outputs": [],
   "source": [
    "# def test_get_graph():\n",
    "polygon = gdf[\"geometry\"][0]\n",
    "G = get_graph(polygon)"
   ]
  },
  {
   "cell_type": "code",
   "execution_count": 25,
   "id": "b581695d-cb6f-4e89-a0ae-30375a168d76",
   "metadata": {
    "tags": []
   },
   "outputs": [
    {
     "ename": "NameError",
     "evalue": "name 'polygon' is not defined",
     "output_type": "error",
     "traceback": [
      "\u001b[0;31m---------------------------------------------------------------------------\u001b[0m",
      "\u001b[0;31mNameError\u001b[0m                                 Traceback (most recent call last)",
      "Cell \u001b[0;32mIn[25], line 1\u001b[0m\n\u001b[0;32m----> 1\u001b[0m \u001b[43mpolygon\u001b[49m\n",
      "\u001b[0;31mNameError\u001b[0m: name 'polygon' is not defined"
     ]
    }
   ],
   "source": [
    "polygon"
   ]
  },
  {
   "cell_type": "markdown",
   "id": "3c918b9a-84ba-4958-b122-909fe98ca479",
   "metadata": {},
   "source": [
    "### get_bearings"
   ]
  },
  {
   "cell_type": "code",
   "execution_count": 28,
   "id": "cf1e7730-f4dd-414a-97f6-31d2ba5a6487",
   "metadata": {
    "tags": []
   },
   "outputs": [],
   "source": [
    "import osmnx as ox\n",
    "import geopandas as gpd\n",
    "from pathlib import Path\n",
    "\n",
    "import sys\n",
    "sys.path.append(\"..\")\n",
    "from morpho.helpers import get_bearings\n",
    "from morpho.layers import clean_gdf, get_graph, get_entropy"
   ]
  },
  {
   "cell_type": "code",
   "execution_count": 31,
   "id": "b1ac2f37-b1d9-4e34-a836-65c2b964550e",
   "metadata": {
    "tags": []
   },
   "outputs": [],
   "source": [
    "data_folder = Path(\"../../data\")\n",
    "\n",
    "def get_polygons(city):\n",
    "    input_file = data_folder / \"0_boundaries\" / city / (city + \".gpkg\")\n",
    "\n",
    "    gdf = gpd.read_file(input_file, driver=\"GPKG\")\n",
    "    if len(gdf) > 200:\n",
    "        raise ValueError(f\"File too large: {len(gdf)} polygons.\")\n",
    "\n",
    "    # Force gdf projection\n",
    "    gdf = ox.project_gdf(gdf, to_crs=\"epsg:4326\", to_latlong=False)\n",
    "\n",
    "    # Create unique ID\n",
    "    gdf = gdf.reset_index(drop=True)\n",
    "    gdf[\"UID\"] = gdf.index\n",
    "\n",
    "    gdf[\"collapse\"] = 0\n",
    "    gdf_collapsed = gdf.dissolve(by=\"collapse\")\n",
    "\n",
    "    return gdf, gdf_collapsed\n",
    "\n",
    "city = \"Raleigh\"\n",
    "gdf, gdf_collapsed = get_polygons(city)\n",
    "gdf = clean_gdf(gdf)"
   ]
  },
  {
   "cell_type": "code",
   "execution_count": 80,
   "id": "193ca3e2-e696-4c8a-9364-6df9a12e854b",
   "metadata": {
    "tags": []
   },
   "outputs": [
    {
     "name": "stdout",
     "output_type": "stream",
     "text": [
      "0.13645706488279152\n"
     ]
    }
   ],
   "source": [
    "i = 4    \n",
    "polygon = gdf[\"geometry\"][i]\n",
    "G = get_graph(polygon)\n",
    "# result = get_entropy(G, gdf.index[i])\n",
    "result = get_entropy(G, i)\n",
    "print(result)"
   ]
  },
  {
   "cell_type": "code",
   "execution_count": 97,
   "id": "2986b802-a658-4b8c-b5da-63c57c66f715",
   "metadata": {
    "tags": []
   },
   "outputs": [],
   "source": [
    "import pandas as pd\n",
    "def reverse_bearing(x):\n",
    "    return x + 180 if x < 180 else x - 180\n",
    "\n",
    "def get_bearings(G):\n",
    "    # calculate the edge bearings\n",
    "    Gu = ox.add_edge_bearings(ox.get_undirected(G))\n",
    "\n",
    "    weight_by_length = False\n",
    "\n",
    "    bearings = {}\n",
    "    if weight_by_length:\n",
    "        # weight bearings by length (meters)\n",
    "        city_bearings = []\n",
    "        for u, v, k, d in Gu.edges(keys=True, data=True):\n",
    "            city_bearings.extend([d[\"bearing\"]] * int(d[\"length\"]))\n",
    "        b = pd.Series(city_bearings)\n",
    "        bearings = pd.concat([b, b.map(reverse_bearing)]).reset_index(drop=\"True\")\n",
    "    else:\n",
    "        # don't weight bearings, just take one value per street segment\n",
    "        b = pd.Series([d[\"bearing\"] for u, v, k, d in Gu.edges(keys=True, data=True)])\n",
    "        bearings = pd.concat([b, b.map(reverse_bearing)]).reset_index(drop=\"True\")\n",
    "    return bearings"
   ]
  },
  {
   "cell_type": "code",
   "execution_count": 103,
   "id": "c5d4e7b9-bfe2-45c1-a011-4cfa2362dd45",
   "metadata": {
    "tags": []
   },
   "outputs": [
    {
     "data": {
      "text/plain": [
       "0       65.2\n",
       "1      222.7\n",
       "2      214.9\n",
       "3       16.3\n",
       "4      109.6\n",
       "       ...  \n",
       "411     95.6\n",
       "412    174.8\n",
       "413    101.4\n",
       "414     79.0\n",
       "415    294.0\n",
       "Length: 416, dtype: float64"
      ]
     },
     "execution_count": 103,
     "metadata": {},
     "output_type": "execute_result"
    }
   ],
   "source": [
    "get_bearings(G)"
   ]
  },
  {
   "cell_type": "markdown",
   "id": "2408a1ee-3230-4419-ae92-a0f4dd23507d",
   "metadata": {},
   "source": [
    "# What city has the least number of polygons"
   ]
  },
  {
   "cell_type": "code",
   "execution_count": 53,
   "id": "a95ab7ba-b733-4254-a6aa-b04c11745edc",
   "metadata": {
    "tags": []
   },
   "outputs": [],
   "source": [
    "filepath = \"../data/cities_us.txt\"\n",
    "with open(filepath) as f:\n",
    "    cities = [city.strip() for city in f]"
   ]
  },
  {
   "cell_type": "code",
   "execution_count": 55,
   "id": "4953d3cf-a1e7-4412-9977-7ec349064427",
   "metadata": {
    "tags": []
   },
   "outputs": [
    {
     "name": "stdout",
     "output_type": "stream",
     "text": [
      "Found!\n",
      "Smallest city: Austin, len: 59\n",
      "Found!\n",
      "Smallest city: Savannah, len: 41\n"
     ]
    }
   ],
   "source": [
    "data_folder = Path(\"../../data\")\n",
    "\n",
    "min_length = 100\n",
    "smallest_city = \"\"\n",
    "for city in cities:\n",
    "    input_file = data_folder / \"0_boundaries\" / city / (city + \".gpkg\")\n",
    "    gdf = gpd.read_file(input_file, driver=\"GPKG\")\n",
    "    if len(gdf) < min_length:\n",
    "        print('Found!')\n",
    "        print(f\"Smallest city: {city}, len: {len(gdf)}\")\n",
    "        min_length = len(gdf)\n",
    "        smallest_city = city"
   ]
  },
  {
   "cell_type": "code",
   "execution_count": 62,
   "id": "3206e262-0c8c-4a67-9dab-63ba3e3d4e55",
   "metadata": {
    "tags": []
   },
   "outputs": [],
   "source": [
    "city = \"Raleigh\"\n",
    "input_file = data_folder / \"2_morphometrics\" / (city + \" - morpho.gpkg\")\n",
    "gdf = gpd.read_file(input_file, driver=\"GPKG\")"
   ]
  },
  {
   "cell_type": "code",
   "execution_count": 64,
   "id": "021c7100-e9e3-4062-9be6-fd7d09727609",
   "metadata": {
    "tags": []
   },
   "outputs": [
    {
     "data": {
      "text/plain": [
       "Index(['STATEFP', 'COUNTYFP', 'TRACTCE', 'GEOID', 'NAME', 'NAMELSAD', 'MTFCC',\n",
       "       'FUNCSTAT', 'ALAND', 'AWATER', 'INTPTLAT', 'INTPTLON', 'UID',\n",
       "       'collapse', 'lon', 'lat', 'area_m2', 'fractal-dimension',\n",
       "       'shannon_entropy-street_orientation_order', 'avg_street_length',\n",
       "       'avg_betweenness_centrality', 'avg_building_area',\n",
       "       'avg_building_compactness', 'geometry'],\n",
       "      dtype='object')"
      ]
     },
     "execution_count": 64,
     "metadata": {},
     "output_type": "execute_result"
    }
   ],
   "source": [
    "gdf.columns"
   ]
  },
  {
   "cell_type": "code",
   "execution_count": 68,
   "id": "bb88b7d2-c11d-499f-99d1-e979beb3b334",
   "metadata": {
    "tags": []
   },
   "outputs": [
    {
     "data": {
      "text/plain": [
       "0.7647058823529411"
      ]
     },
     "execution_count": 68,
     "metadata": {},
     "output_type": "execute_result"
    }
   ],
   "source": [
    "gdf[\"shannon_entropy-street_orientation_order\"].isna().sum()/len(gdf)"
   ]
  },
  {
   "cell_type": "markdown",
   "id": "8a9309da-ee53-468d-807f-73a568ce4379",
   "metadata": {},
   "source": [
    "### test_gdf"
   ]
  },
  {
   "cell_type": "code",
   "execution_count": 112,
   "id": "d880f712-2137-47ab-b56b-7402f2cd43c4",
   "metadata": {
    "tags": []
   },
   "outputs": [],
   "source": [
    "import sys\n",
    "sys.path.append(\"..\")\n",
    "from pathlib import Path\n",
    "import geopandas as gpd\n",
    "import osmnx as ox\n",
    "\n",
    "import networkx as nx\n",
    "from morpho.layers import clean_gdf, get_graph, get_polygons, get_streets"
   ]
  },
  {
   "cell_type": "code",
   "execution_count": 113,
   "id": "6b3f9872-48d3-4e00-bc29-20070a653538",
   "metadata": {
    "tags": []
   },
   "outputs": [],
   "source": [
    "def get_polygons(city):\n",
    "    input_file = data_folder / \"0_boundaries\" / city / (city + \".gpkg\")\n",
    "\n",
    "    gdf = gpd.read_file(input_file, driver=\"GPKG\")\n",
    "    if len(gdf) > 200:\n",
    "        raise ValueError(f\"File too large: {len(gdf)} polygons.\")\n",
    "\n",
    "    # Force gdf projection\n",
    "    gdf = ox.project_gdf(gdf, to_crs=\"epsg:4326\", to_latlong=False)\n",
    "\n",
    "    # Create unique ID\n",
    "    gdf = gdf.reset_index(drop=True)\n",
    "    gdf[\"UID\"] = gdf.index\n",
    "\n",
    "    gdf[\"collapse\"] = 0\n",
    "    gdf_collapsed = gdf.dissolve(by=\"collapse\")\n",
    "\n",
    "    return gdf, gdf_collapsed"
   ]
  },
  {
   "cell_type": "code",
   "execution_count": 114,
   "id": "94090052-5360-4739-bc22-be31bc2704ce",
   "metadata": {
    "tags": []
   },
   "outputs": [],
   "source": [
    "city = \"test\"\n",
    "gdf, gdf_collapsed = get_polygons(city)"
   ]
  },
  {
   "cell_type": "code",
   "execution_count": 115,
   "id": "bf297254-0d94-4822-90f0-38838aab2dae",
   "metadata": {
    "tags": []
   },
   "outputs": [
    {
     "data": {
      "text/html": [
       "<div>\n",
       "<style scoped>\n",
       "    .dataframe tbody tr th:only-of-type {\n",
       "        vertical-align: middle;\n",
       "    }\n",
       "\n",
       "    .dataframe tbody tr th {\n",
       "        vertical-align: top;\n",
       "    }\n",
       "\n",
       "    .dataframe thead th {\n",
       "        text-align: right;\n",
       "    }\n",
       "</style>\n",
       "<table border=\"1\" class=\"dataframe\">\n",
       "  <thead>\n",
       "    <tr style=\"text-align: right;\">\n",
       "      <th></th>\n",
       "      <th>STATEFP</th>\n",
       "      <th>COUNTYFP</th>\n",
       "      <th>TRACTCE</th>\n",
       "      <th>GEOID</th>\n",
       "      <th>NAME</th>\n",
       "      <th>NAMELSAD</th>\n",
       "      <th>MTFCC</th>\n",
       "      <th>FUNCSTAT</th>\n",
       "      <th>ALAND</th>\n",
       "      <th>AWATER</th>\n",
       "      <th>INTPTLAT</th>\n",
       "      <th>INTPTLON</th>\n",
       "      <th>geometry</th>\n",
       "      <th>UID</th>\n",
       "      <th>collapse</th>\n",
       "    </tr>\n",
       "  </thead>\n",
       "  <tbody>\n",
       "    <tr>\n",
       "      <th>0</th>\n",
       "      <td>36</td>\n",
       "      <td>061</td>\n",
       "      <td>013700</td>\n",
       "      <td>36061013700</td>\n",
       "      <td>137</td>\n",
       "      <td>Census Tract 137</td>\n",
       "      <td>G5020</td>\n",
       "      <td>S</td>\n",
       "      <td>226356</td>\n",
       "      <td>0</td>\n",
       "      <td>+40.7652144</td>\n",
       "      <td>-073.9802379</td>\n",
       "      <td>MULTIPOLYGON (((-73.98382 40.76542, -73.98337 ...</td>\n",
       "      <td>0</td>\n",
       "      <td>0</td>\n",
       "    </tr>\n",
       "  </tbody>\n",
       "</table>\n",
       "</div>"
      ],
      "text/plain": [
       "  STATEFP COUNTYFP TRACTCE        GEOID NAME          NAMELSAD  MTFCC   \n",
       "0      36      061  013700  36061013700  137  Census Tract 137  G5020  \\\n",
       "\n",
       "  FUNCSTAT   ALAND  AWATER     INTPTLAT      INTPTLON   \n",
       "0        S  226356       0  +40.7652144  -073.9802379  \\\n",
       "\n",
       "                                            geometry  UID  collapse  \n",
       "0  MULTIPOLYGON (((-73.98382 40.76542, -73.98337 ...    0         0  "
      ]
     },
     "execution_count": 115,
     "metadata": {},
     "output_type": "execute_result"
    }
   ],
   "source": [
    "gdf.head()"
   ]
  },
  {
   "cell_type": "code",
   "execution_count": 116,
   "id": "577e1e00-e48f-436a-9e17-49c5ffb649e0",
   "metadata": {
    "tags": []
   },
   "outputs": [
    {
     "data": {
      "text/html": [
       "<div>\n",
       "<style scoped>\n",
       "    .dataframe tbody tr th:only-of-type {\n",
       "        vertical-align: middle;\n",
       "    }\n",
       "\n",
       "    .dataframe tbody tr th {\n",
       "        vertical-align: top;\n",
       "    }\n",
       "\n",
       "    .dataframe thead th {\n",
       "        text-align: right;\n",
       "    }\n",
       "</style>\n",
       "<table border=\"1\" class=\"dataframe\">\n",
       "  <thead>\n",
       "    <tr style=\"text-align: right;\">\n",
       "      <th></th>\n",
       "      <th>geometry</th>\n",
       "      <th>STATEFP</th>\n",
       "      <th>COUNTYFP</th>\n",
       "      <th>TRACTCE</th>\n",
       "      <th>GEOID</th>\n",
       "      <th>NAME</th>\n",
       "      <th>NAMELSAD</th>\n",
       "      <th>MTFCC</th>\n",
       "      <th>FUNCSTAT</th>\n",
       "      <th>ALAND</th>\n",
       "      <th>AWATER</th>\n",
       "      <th>INTPTLAT</th>\n",
       "      <th>INTPTLON</th>\n",
       "      <th>UID</th>\n",
       "    </tr>\n",
       "    <tr>\n",
       "      <th>collapse</th>\n",
       "      <th></th>\n",
       "      <th></th>\n",
       "      <th></th>\n",
       "      <th></th>\n",
       "      <th></th>\n",
       "      <th></th>\n",
       "      <th></th>\n",
       "      <th></th>\n",
       "      <th></th>\n",
       "      <th></th>\n",
       "      <th></th>\n",
       "      <th></th>\n",
       "      <th></th>\n",
       "      <th></th>\n",
       "    </tr>\n",
       "  </thead>\n",
       "  <tbody>\n",
       "    <tr>\n",
       "      <th>0</th>\n",
       "      <td>POLYGON ((-73.98382 40.76542, -73.98337 40.766...</td>\n",
       "      <td>36</td>\n",
       "      <td>061</td>\n",
       "      <td>013700</td>\n",
       "      <td>36061013700</td>\n",
       "      <td>137</td>\n",
       "      <td>Census Tract 137</td>\n",
       "      <td>G5020</td>\n",
       "      <td>S</td>\n",
       "      <td>226356</td>\n",
       "      <td>0</td>\n",
       "      <td>+40.7652144</td>\n",
       "      <td>-073.9802379</td>\n",
       "      <td>0</td>\n",
       "    </tr>\n",
       "  </tbody>\n",
       "</table>\n",
       "</div>"
      ],
      "text/plain": [
       "                                                   geometry STATEFP COUNTYFP   \n",
       "collapse                                                                       \n",
       "0         POLYGON ((-73.98382 40.76542, -73.98337 40.766...      36      061  \\\n",
       "\n",
       "         TRACTCE        GEOID NAME          NAMELSAD  MTFCC FUNCSTAT   ALAND   \n",
       "collapse                                                                       \n",
       "0         013700  36061013700  137  Census Tract 137  G5020        S  226356  \\\n",
       "\n",
       "          AWATER     INTPTLAT      INTPTLON  UID  \n",
       "collapse                                          \n",
       "0              0  +40.7652144  -073.9802379    0  "
      ]
     },
     "execution_count": 116,
     "metadata": {},
     "output_type": "execute_result"
    }
   ],
   "source": [
    "gdf_collapsed"
   ]
  },
  {
   "cell_type": "code",
   "execution_count": 117,
   "id": "6b39110f-1a40-40c6-8540-e27d25375849",
   "metadata": {
    "tags": []
   },
   "outputs": [
    {
     "name": "stderr",
     "output_type": "stream",
     "text": [
      "2023-08-16 23:52:31,593 log INFO Streets:    Downloading all streets.\n"
     ]
    }
   ],
   "source": [
    "streets_gdf = get_streets(city, gdf_collapsed, save=False)\n",
    "# return streets_gdf"
   ]
  },
  {
   "cell_type": "code",
   "execution_count": 120,
   "id": "d897dfa3-0ec0-484d-b49f-67eaa8b8f6d6",
   "metadata": {
    "tags": []
   },
   "outputs": [
    {
     "data": {
      "text/plain": [
       "['osmid',\n",
       " 'oneway',\n",
       " 'lanes',\n",
       " 'name',\n",
       " 'highway',\n",
       " 'reversed',\n",
       " 'length',\n",
       " 'geometry',\n",
       " 'access',\n",
       " 'maxspeed',\n",
       " 'width',\n",
       " 'junction']"
      ]
     },
     "execution_count": 120,
     "metadata": {},
     "output_type": "execute_result"
    }
   ],
   "source": [
    "list(streets_gdf.columns)"
   ]
  },
  {
   "cell_type": "code",
   "execution_count": null,
   "id": "cb4cb8cf-a028-43c7-bd4d-847e556d53e6",
   "metadata": {},
   "outputs": [],
   "source": []
  }
 ],
 "metadata": {
  "kernelspec": {
   "display_name": "Python 3 (ipykernel)",
   "language": "python",
   "name": "python3"
  },
  "language_info": {
   "codemirror_mode": {
    "name": "ipython",
    "version": 3
   },
   "file_extension": ".py",
   "mimetype": "text/x-python",
   "name": "python",
   "nbconvert_exporter": "python",
   "pygments_lexer": "ipython3",
   "version": "3.10.11"
  }
 },
 "nbformat": 4,
 "nbformat_minor": 5
}
