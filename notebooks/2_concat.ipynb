{
 "cells": [
  {
   "cell_type": "markdown",
   "id": "b2ab4915-cc58-4d86-ab75-6facb9ebaa87",
   "metadata": {},
   "source": [
    "# Concatenate results\n",
    "\n",
    "Concatenate all morphometrics results and export a CSV."
   ]
  },
  {
   "cell_type": "code",
   "execution_count": 1,
   "id": "ac3ab35b-c128-4760-a3d4-63b7a6485541",
   "metadata": {
    "tags": []
   },
   "outputs": [],
   "source": [
    "# Import modules\n",
    "import pandas as pd\n",
    "import geopandas as gpd\n",
    "from pathlib import Path"
   ]
  },
  {
   "cell_type": "markdown",
   "id": "9476f0a2-89dd-40f1-b608-d3ef9c46bfe7",
   "metadata": {},
   "source": [
    "# Concatenate"
   ]
  },
  {
   "cell_type": "code",
   "execution_count": 2,
   "id": "8a4cff19-0e55-4ee0-9361-3815f6d7c02f",
   "metadata": {
    "tags": []
   },
   "outputs": [
    {
     "name": "stderr",
     "output_type": "stream",
     "text": [
      "ERROR 1: PROJ: proj_create_from_database: Open of /opt/conda/share/proj failed\n"
     ]
    }
   ],
   "source": [
    "data_folder = Path(\"../data/2_morphometrics\")\n",
    "\n",
    "df_full = pd.DataFrame()\n",
    "for file in data_folder.iterdir():\n",
    "    if \" - morpho.gpkg\" in file.name:\n",
    "        city_name = file.stem.split(\" - morpho\")[0].strip()\n",
    "        gdf = gpd.read_file(file)\n",
    "        gdf['city'] = city_name\n",
    "        df_full = pd.concat([df_full, gdf])"
   ]
  },
  {
   "cell_type": "code",
   "execution_count": 3,
   "id": "ee96bf7f-ae11-4310-8b24-250712f56951",
   "metadata": {
    "tags": []
   },
   "outputs": [],
   "source": [
    "# Save\n",
    "df_full.to_csv('../data/4_csv/Morphometrics.csv', index=None)"
   ]
  },
  {
   "cell_type": "markdown",
   "id": "833df199-5686-4e0a-ac8f-dabd71ce4019",
   "metadata": {},
   "source": [
    "# OSM\n",
    "\n",
    "Check how many files are re edited after downloading from OSM to avoid overwriting."
   ]
  },
  {
   "cell_type": "code",
   "execution_count": 9,
   "id": "09a8311b-c659-46a6-a45f-e9fbceedb599",
   "metadata": {
    "tags": []
   },
   "outputs": [],
   "source": [
    "data_folder = Path(\"../data/0_boundaries\")\n",
    "\n",
    "for file in data_folder.iterdir():\n",
    "    if file.is_dir():\n",
    "        for f in file.iterdir():\n",
    "            if \"OSM\" in f.stem.split(\" \"):\n",
    "                print(f.name)"
   ]
  }
 ],
 "metadata": {
  "kernelspec": {
   "display_name": "Python 3 (ipykernel)",
   "language": "python",
   "name": "python3"
  },
  "language_info": {
   "codemirror_mode": {
    "name": "ipython",
    "version": 3
   },
   "file_extension": ".py",
   "mimetype": "text/x-python",
   "name": "python",
   "nbconvert_exporter": "python",
   "pygments_lexer": "ipython3",
   "version": "3.10.11"
  }
 },
 "nbformat": 4,
 "nbformat_minor": 5
}
