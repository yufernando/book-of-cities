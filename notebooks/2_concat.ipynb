{
 "cells": [
  {
   "cell_type": "markdown",
   "id": "b2ab4915-cc58-4d86-ab75-6facb9ebaa87",
   "metadata": {},
   "source": [
    "# Concatenate results\n",
    "\n",
    "Concatenate all morphometrics results and export a CSV."
   ]
  },
  {
   "cell_type": "code",
   "execution_count": 22,
   "id": "ac3ab35b-c128-4760-a3d4-63b7a6485541",
   "metadata": {
    "tags": []
   },
   "outputs": [],
   "source": [
    "# Import modules\n",
    "import pandas as pd\n",
    "import geopandas as gpd\n",
    "from pathlib import Path"
   ]
  },
  {
   "cell_type": "markdown",
   "id": "9476f0a2-89dd-40f1-b608-d3ef9c46bfe7",
   "metadata": {},
   "source": [
    "# Concatenate"
   ]
  },
  {
   "cell_type": "code",
   "execution_count": 30,
   "id": "8a4cff19-0e55-4ee0-9361-3815f6d7c02f",
   "metadata": {
    "tags": []
   },
   "outputs": [],
   "source": [
    "data_folder = Path(\"../../data/\")\n",
    "morpho_folder = data_folder / \"2_morphometrics\"\n",
    "csv_folder = data_folder / \"4_csv\"\n",
    "\n",
    "df_full = pd.DataFrame()\n",
    "for file in morpho_folder.iterdir():\n",
    "    if \" - morpho.gpkg\" in file.name:\n",
    "        city_name = file.stem.split(\" - morpho\")[0].strip()\n",
    "        if city_name == \"test\":\n",
    "            continue\n",
    "        gdf = gpd.read_file(file)\n",
    "        gdf['city'] = city_name\n",
    "        df_full = pd.concat([df_full, gdf])"
   ]
  },
  {
   "cell_type": "code",
   "execution_count": 31,
   "id": "e48f18ce-d5f4-4830-94ff-23ce1d96249c",
   "metadata": {
    "tags": []
   },
   "outputs": [
    {
     "data": {
      "text/plain": [
       "array(['Amsterdam', 'Athens', 'Atlanta', 'Austin', 'Barcelona', 'Berlin',\n",
       "       'Bilbao', 'Birmingham', 'Boston', 'Brussels', 'Budapest',\n",
       "       'Buenos Aires', 'Charlotte', 'Chicago', 'Cincinnati', 'Copenhagen',\n",
       "       'Denver', 'Detroit', 'Frankfurt', 'Geneva', 'Hamburg', 'Houston',\n",
       "       'Istanbul', 'Jerusalem', 'Kansas City', 'Las Vegas', 'Lisbon',\n",
       "       'Liverpool', 'London', 'Los Angeles', 'Madrid', 'Manchester',\n",
       "       'Melbourne', 'Miami', 'Milano', 'Milwaukee', 'Minneapolis',\n",
       "       'Moscow', 'Munich', 'Nashville', 'New York', 'Paris',\n",
       "       'Philadelphia', 'Phoenix', 'Pittsburgh', 'Portland', 'Raleigh',\n",
       "       'Rome', 'Rotterdam', 'Saint Louis', 'Saint Petersburg',\n",
       "       'San Diego', 'San Francisco', 'Savannah', 'Seattle', 'Singapore',\n",
       "       'Stockholm', 'Torino', 'Vienna', 'Warsaw', 'Washington DC',\n",
       "       'Zurich'], dtype=object)"
      ]
     },
     "execution_count": 31,
     "metadata": {},
     "output_type": "execute_result"
    }
   ],
   "source": [
    "df_full[\"city\"].unique()"
   ]
  },
  {
   "cell_type": "code",
   "execution_count": 32,
   "id": "ee96bf7f-ae11-4310-8b24-250712f56951",
   "metadata": {
    "tags": []
   },
   "outputs": [],
   "source": [
    "# Save\n",
    "df_full.to_csv(csv_folder / \"Morphometrics.csv\", index=None)"
   ]
  },
  {
   "cell_type": "markdown",
   "id": "05b269d2-d346-4e11-83a6-a0cf2c33d18b",
   "metadata": {},
   "source": [
    "# Concatenate Madrid, Barcelona, Madrid"
   ]
  },
  {
   "cell_type": "code",
   "execution_count": 30,
   "id": "51604943-e232-49b0-96f1-a9fde75e1fc8",
   "metadata": {
    "tags": []
   },
   "outputs": [
    {
     "name": "stdout",
     "output_type": "stream",
     "text": [
      "Paris\n",
      "Barcelona\n",
      "Madrid\n"
     ]
    }
   ],
   "source": [
    "data_folder = Path(\"../../data/2_morphometrics\")\n",
    "\n",
    "df_full = pd.DataFrame()\n",
    "city_list = [\"Paris\", \"Barcelona\", \"Madrid\"]\n",
    "\n",
    "for city in city_list:\n",
    "    print(city)\n",
    "    file_path = data_folder / (city + \" - morpho.gpkg\")\n",
    "    gdf = gpd.read_file(file_path)\n",
    "    gdf['city'] = city\n",
    "    df_full = pd.concat([df_full, gdf])"
   ]
  },
  {
   "cell_type": "markdown",
   "id": "09bd9cb7-e307-491e-9d63-431e90de7b84",
   "metadata": {},
   "source": [
    "### Save"
   ]
  },
  {
   "cell_type": "code",
   "execution_count": 32,
   "id": "779953b6-a5c5-4cfc-a3d2-33bcfc5a2070",
   "metadata": {
    "tags": []
   },
   "outputs": [],
   "source": [
    "gdf.to_csv(\"../../data/4_csv/Morphometrics_full.csv\", index=None)"
   ]
  },
  {
   "cell_type": "code",
   "execution_count": null,
   "id": "bb7286a5-404b-46b4-9309-4134c0b060d2",
   "metadata": {},
   "outputs": [],
   "source": [
    "# Debug what happened to building volume"
   ]
  },
  {
   "cell_type": "code",
   "execution_count": 33,
   "id": "ef953adf-59e9-4565-852d-43bdf9ab710d",
   "metadata": {
    "tags": []
   },
   "outputs": [],
   "source": [
    "city = \"Madrid\"\n",
    "file_path = data_folder / (city + \" - morpho.gpkg\")\n",
    "gdf = gpd.read_file(file_path)"
   ]
  },
  {
   "cell_type": "code",
   "execution_count": 35,
   "id": "6b3dd2c2-ef55-42b8-8590-a69cfa23c894",
   "metadata": {
    "tags": []
   },
   "outputs": [
    {
     "data": {
      "text/plain": [
       "0      14.404848\n",
       "1      97.107410\n",
       "2            NaN\n",
       "3            NaN\n",
       "4            NaN\n",
       "         ...    \n",
       "118          NaN\n",
       "119          NaN\n",
       "120          NaN\n",
       "121    40.961923\n",
       "122          NaN\n",
       "Name: avg_building_volume, Length: 123, dtype: float64"
      ]
     },
     "execution_count": 35,
     "metadata": {},
     "output_type": "execute_result"
    }
   ],
   "source": [
    "gdf[\"avg_building_volume\"]"
   ]
  },
  {
   "cell_type": "markdown",
   "id": "833df199-5686-4e0a-ac8f-dabd71ce4019",
   "metadata": {},
   "source": [
    "# OSM\n",
    "\n",
    "Check how many files are re edited after downloading from OSM to avoid overwriting."
   ]
  },
  {
   "cell_type": "code",
   "execution_count": 9,
   "id": "09a8311b-c659-46a6-a45f-e9fbceedb599",
   "metadata": {
    "tags": []
   },
   "outputs": [],
   "source": [
    "data_folder = Path(\"../data/0_boundaries\")\n",
    "\n",
    "for file in data_folder.iterdir():\n",
    "    if file.is_dir():\n",
    "        for f in file.iterdir():\n",
    "            if \"OSM\" in f.stem.split(\" \"):\n",
    "                print(f.name)"
   ]
  }
 ],
 "metadata": {
  "kernelspec": {
   "display_name": "Python 3 (ipykernel)",
   "language": "python",
   "name": "python3"
  },
  "language_info": {
   "codemirror_mode": {
    "name": "ipython",
    "version": 3
   },
   "file_extension": ".py",
   "mimetype": "text/x-python",
   "name": "python",
   "nbconvert_exporter": "python",
   "pygments_lexer": "ipython3",
   "version": "3.10.11"
  }
 },
 "nbformat": 4,
 "nbformat_minor": 5
}
