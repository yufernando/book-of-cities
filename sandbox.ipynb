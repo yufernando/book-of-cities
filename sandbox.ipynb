{
 "cells": [
  {
   "cell_type": "markdown",
   "id": "cabd712b-bcdc-4aa6-a37b-f1422d4cbb10",
   "metadata": {},
   "source": [
    "# Sandbox \n",
    "\n",
    "Sandbox for main python scripts"
   ]
  },
  {
   "cell_type": "code",
   "execution_count": 1,
   "id": "9b36ca2d-c042-4bfc-9399-8bdb4136eaa9",
   "metadata": {
    "tags": []
   },
   "outputs": [],
   "source": [
    "import osmnx as ox"
   ]
  },
  {
   "cell_type": "code",
   "execution_count": 2,
   "id": "48492b28-c4aa-4a58-a0e7-4e41a6151bc5",
   "metadata": {
    "tags": []
   },
   "outputs": [],
   "source": [
    "places = ox.geocode_to_gdf(['Paris, France'])\n"
   ]
  },
  {
   "cell_type": "code",
   "execution_count": 3,
   "id": "e207c308-a70c-40e5-8ec9-24f7fb6ba58b",
   "metadata": {
    "tags": []
   },
   "outputs": [
    {
     "data": {
      "image/png": "[encoded data removed]",
      "text/plain": [
       "<Figure size 640x480 with 1 Axes>"
      ]
     },
     "metadata": {},
     "output_type": "display_data"
    }
   ],
   "source": [
    "places = ox.project_gdf(places)\n",
    "\n",
    "ax = places.plot()\n"
   ]
  },
  {
   "cell_type": "markdown",
   "id": "be6bc65b-5e44-4507-8999-3b619d6641a3",
   "metadata": {},
   "source": [
    "# Morphometrics errors\n",
    "\n",
    "This chunk of code was copied from the main script on 8/1/2023 to debug an issue loading and saving geopackages."
   ]
  },
  {
   "cell_type": "code",
   "execution_count": 5,
   "id": "8bdac303-a258-45a6-8461-a84ee83b3b5a",
   "metadata": {
    "tags": []
   },
   "outputs": [
    {
     "name": "stdout",
     "output_type": "stream",
     "text": [
      "City list: Pittsburgh\n",
      "City: Detroit\n",
      "Input: ../data/0_boundaries/Detroit/Detroit.gpkg\n"
     ]
    },
    {
     "name": "stderr",
     "output_type": "stream",
     "text": [
      "/tmp/ipykernel_1097/66507613.py:97: PerformanceWarning: dropping on a non-lexsorted multi-index without a level parameter may impact performance.\n",
      "  buildings_save = buildings.drop(labels=\"node\", axis=0)\n"
     ]
    }
   ],
   "source": [
    "#!/usr/bin/env python\n",
    "# coding: utf-8\n",
    "\"\"\"\n",
    "Get Buildings and Streets and run Morphometrics\n",
    "\"\"\"\n",
    "# Import modules\n",
    "\n",
    "import os\n",
    "from pathlib import Path\n",
    "\n",
    "import geopandas as gpd\n",
    "import imageio\n",
    "import momepy\n",
    "import numpy as np\n",
    "import osmnx as ox\n",
    "\n",
    "from helpers import (\n",
    "    count_and_merge,\n",
    "    format_time,\n",
    "    fractal_dimension,\n",
    "    get_bearings,\n",
    "    get_orientation_order,\n",
    "    pp_compactness,\n",
    ")\n",
    "\n",
    "# Choose City\n",
    "city_list = [\n",
    "    \"Melbourne\",\n",
    "    \"Jerusalem\",\n",
    "    \"Buenos Aires\",\n",
    "    \"Paris\",\n",
    "    \"Rotterdam\",\n",
    "    \"Nashville\",\n",
    "    \"Singapore\",\n",
    "    \"Cape Town\",\n",
    "    \"New York\",\n",
    "    \"Los Angeles\",\n",
    "    \"Chicago\",\n",
    "    \"Boston\",\n",
    "    \"Austin\",\n",
    "    \"Seattle\",\n",
    "    \"Philadelphia\",\n",
    "    \"Pittsburgh\",\n",
    "    \"Washington DC\",\n",
    "    \"San Francisco\",\n",
    "    \"SF Bay Area \",\n",
    "    \"Raleigh\",\n",
    "    \"Milwaukee\",\n",
    "    \"Portland\",\n",
    "    \"San Diego\",\n",
    "    \"Denver\",\n",
    "    \"Miami\",\n",
    "    \"Saint Louis\",\n",
    "    \"Houston\",\n",
    "    \"Atlanta\",\n",
    "    \"Phoenix\",\n",
    "    \"Detroit\",\n",
    "    \"Minneapolis\",\n",
    "    \"Savannah\",\n",
    "    \"Charlotte\",\n",
    "    \"Las Vegas\",\n",
    "    \"Cincinnati\",\n",
    "    \"Kansas City\",\n",
    "    \"Nashville\",\n",
    "]\n",
    "\n",
    "city_list = [city_list[15]]\n",
    "print(f\"City list: {', '.join(city_list)}\")\n",
    "city_list = [\"Detroit\"]\n",
    "\n",
    "for city in city_list:\n",
    "    print(f\"City: {city}\")\n",
    "    # Buildings and Streets\n",
    "\n",
    "    # Read Geopackage\n",
    "    data_folder = Path(\"../data/\")\n",
    "    input_file = data_folder / \"0_boundaries\" / city / (city + \".gpkg\")\n",
    "\n",
    "    print(f\"Input: {input_file}\")\n",
    "    gdf = gpd.read_file(input_file, driver=\"GPKG\")\n",
    "    # Force gdf projection\n",
    "    gdf = ox.project_gdf(gdf, to_crs=\"epsg:4326\", to_latlong=False)\n",
    "\n",
    "    # Get Master polygon\n",
    "    # Create unique ID\n",
    "    gdf = gdf.reset_index(drop=True)\n",
    "    gdf[\"UID\"] = gdf.index\n",
    "    # Establish bounds DataFrame (everything so we can do one query)\n",
    "    gdf[\"collapse\"] = 0\n",
    "    gdf_collapsed = gdf.dissolve(by=\"collapse\")\n",
    "    \n",
    "     # Get Buildings\n",
    "    tags = {\"building\": True}\n",
    "    buildings = ox.geometries_from_polygon(gdf_collapsed[\"geometry\"][0], tags)\n",
    "    # buildings = ox.features_from_polygon(gdf_collapsed[\"geometry\"][0], tags)\n",
    "    buildings = buildings[[\"geometry\", \"name\"]]\n",
    "    buildings_save = buildings.drop(labels=\"node\", axis=0)"
   ]
  },
  {
   "cell_type": "code",
   "execution_count": 11,
   "id": "a0685dbc-759f-430c-9573-46800c6abf32",
   "metadata": {
    "tags": []
   },
   "outputs": [],
   "source": [
    "buildings_save = buildings.drop(labels=\"node\", axis=0, level=0)"
   ]
  },
  {
   "cell_type": "code",
   "execution_count": 16,
   "id": "8a2cd7c3-462b-4194-bab3-fa42093db240",
   "metadata": {
    "tags": []
   },
   "outputs": [
    {
     "data": {
      "text/html": [
       "<div>\n",
       "<style scoped>\n",
       "    .dataframe tbody tr th:only-of-type {\n",
       "        vertical-align: middle;\n",
       "    }\n",
       "\n",
       "    .dataframe tbody tr th {\n",
       "        vertical-align: top;\n",
       "    }\n",
       "\n",
       "    .dataframe thead th {\n",
       "        text-align: right;\n",
       "    }\n",
       "</style>\n",
       "<table border=\"1\" class=\"dataframe\">\n",
       "  <thead>\n",
       "    <tr style=\"text-align: right;\">\n",
       "      <th></th>\n",
       "      <th></th>\n",
       "      <th>geometry</th>\n",
       "      <th>name</th>\n",
       "    </tr>\n",
       "    <tr>\n",
       "      <th>element_type</th>\n",
       "      <th>osmid</th>\n",
       "      <th></th>\n",
       "      <th></th>\n",
       "    </tr>\n",
       "  </thead>\n",
       "  <tbody>\n",
       "    <tr>\n",
       "      <th rowspan=\"5\" valign=\"top\">way</th>\n",
       "      <th>30260210</th>\n",
       "      <td>POLYGON ((-83.04505 42.32978, -83.04502 42.329...</td>\n",
       "      <td>Ally Detroit Center</td>\n",
       "    </tr>\n",
       "    <tr>\n",
       "      <th>30260356</th>\n",
       "      <td>POLYGON ((-83.05178 42.33290, -83.05181 42.332...</td>\n",
       "      <td>NaN</td>\n",
       "    </tr>\n",
       "    <tr>\n",
       "      <th>40438311</th>\n",
       "      <td>POLYGON ((-83.05665 42.39805, -83.05681 42.398...</td>\n",
       "      <td>Polish Village Café</td>\n",
       "    </tr>\n",
       "    <tr>\n",
       "      <th>46139505</th>\n",
       "      <td>POLYGON ((-83.05399 42.33887, -83.05323 42.339...</td>\n",
       "      <td>Comerica Garage</td>\n",
       "    </tr>\n",
       "    <tr>\n",
       "      <th>46380299</th>\n",
       "      <td>POLYGON ((-83.05469 42.32548, -83.05523 42.325...</td>\n",
       "      <td>900 West Jefferson Garage</td>\n",
       "    </tr>\n",
       "    <tr>\n",
       "      <th>...</th>\n",
       "      <th>...</th>\n",
       "      <td>...</td>\n",
       "      <td>...</td>\n",
       "    </tr>\n",
       "    <tr>\n",
       "      <th rowspan=\"5\" valign=\"top\">relation</th>\n",
       "      <th>14368992</th>\n",
       "      <td>POLYGON ((-83.01843 42.35857, -83.01847 42.358...</td>\n",
       "      <td>New Liberty Baptist Church</td>\n",
       "    </tr>\n",
       "    <tr>\n",
       "      <th>14647643</th>\n",
       "      <td>MULTIPOLYGON (((-83.07522 42.33554, -83.07518 ...</td>\n",
       "      <td>Spaulding Court</td>\n",
       "    </tr>\n",
       "    <tr>\n",
       "      <th>14904045</th>\n",
       "      <td>POLYGON ((-83.00800 42.34081, -83.00761 42.340...</td>\n",
       "      <td>Captain of the Port</td>\n",
       "    </tr>\n",
       "    <tr>\n",
       "      <th>14995611</th>\n",
       "      <td>POLYGON ((-83.00638 42.38528, -83.00627 42.385...</td>\n",
       "      <td>Bethel Baptist Church East</td>\n",
       "    </tr>\n",
       "    <tr>\n",
       "      <th>15442283</th>\n",
       "      <td>MULTIPOLYGON (((-83.06996 42.33055, -83.07045 ...</td>\n",
       "      <td>The Eleventh</td>\n",
       "    </tr>\n",
       "  </tbody>\n",
       "</table>\n",
       "<p>34356 rows × 2 columns</p>\n",
       "</div>"
      ],
      "text/plain": [
       "                                                                geometry   \n",
       "element_type osmid                                                         \n",
       "way          30260210  POLYGON ((-83.04505 42.32978, -83.04502 42.329...  \\\n",
       "             30260356  POLYGON ((-83.05178 42.33290, -83.05181 42.332...   \n",
       "             40438311  POLYGON ((-83.05665 42.39805, -83.05681 42.398...   \n",
       "             46139505  POLYGON ((-83.05399 42.33887, -83.05323 42.339...   \n",
       "             46380299  POLYGON ((-83.05469 42.32548, -83.05523 42.325...   \n",
       "...                                                                  ...   \n",
       "relation     14368992  POLYGON ((-83.01843 42.35857, -83.01847 42.358...   \n",
       "             14647643  MULTIPOLYGON (((-83.07522 42.33554, -83.07518 ...   \n",
       "             14904045  POLYGON ((-83.00800 42.34081, -83.00761 42.340...   \n",
       "             14995611  POLYGON ((-83.00638 42.38528, -83.00627 42.385...   \n",
       "             15442283  MULTIPOLYGON (((-83.06996 42.33055, -83.07045 ...   \n",
       "\n",
       "                                             name  \n",
       "element_type osmid                                 \n",
       "way          30260210         Ally Detroit Center  \n",
       "             30260356                         NaN  \n",
       "             40438311         Polish Village Café  \n",
       "             46139505             Comerica Garage  \n",
       "             46380299   900 West Jefferson Garage  \n",
       "...                                           ...  \n",
       "relation     14368992  New Liberty Baptist Church  \n",
       "             14647643             Spaulding Court  \n",
       "             14904045         Captain of the Port  \n",
       "             14995611  Bethel Baptist Church East  \n",
       "             15442283                The Eleventh  \n",
       "\n",
       "[34356 rows x 2 columns]"
      ]
     },
     "execution_count": 16,
     "metadata": {},
     "output_type": "execute_result"
    }
   ],
   "source": [
    "buildings_save"
   ]
  },
  {
   "cell_type": "code",
   "execution_count": 18,
   "id": "93f66fcb-ec04-4406-aa6f-eae38cf625c4",
   "metadata": {
    "tags": []
   },
   "outputs": [
    {
     "data": {
      "text/plain": [
       "True"
      ]
     },
     "execution_count": 18,
     "metadata": {},
     "output_type": "execute_result"
    }
   ],
   "source": [
    "buildings_save_backup.equals(buildings_save)"
   ]
  },
  {
   "cell_type": "code",
   "execution_count": 14,
   "id": "14d39aae-e837-4b57-8e6c-4b35499e8e18",
   "metadata": {
    "tags": []
   },
   "outputs": [
    {
     "data": {
      "text/html": [
       "<div>\n",
       "<style scoped>\n",
       "    .dataframe tbody tr th:only-of-type {\n",
       "        vertical-align: middle;\n",
       "    }\n",
       "\n",
       "    .dataframe tbody tr th {\n",
       "        vertical-align: top;\n",
       "    }\n",
       "\n",
       "    .dataframe thead th {\n",
       "        text-align: right;\n",
       "    }\n",
       "</style>\n",
       "<table border=\"1\" class=\"dataframe\">\n",
       "  <thead>\n",
       "    <tr style=\"text-align: right;\">\n",
       "      <th></th>\n",
       "      <th></th>\n",
       "      <th>geometry</th>\n",
       "      <th>name</th>\n",
       "    </tr>\n",
       "    <tr>\n",
       "      <th>element_type</th>\n",
       "      <th>osmid</th>\n",
       "      <th></th>\n",
       "      <th></th>\n",
       "    </tr>\n",
       "  </thead>\n",
       "  <tbody>\n",
       "    <tr>\n",
       "      <th rowspan=\"5\" valign=\"top\">way</th>\n",
       "      <th>30260210</th>\n",
       "      <td>True</td>\n",
       "      <td>True</td>\n",
       "    </tr>\n",
       "    <tr>\n",
       "      <th>30260356</th>\n",
       "      <td>True</td>\n",
       "      <td>False</td>\n",
       "    </tr>\n",
       "    <tr>\n",
       "      <th>40438311</th>\n",
       "      <td>True</td>\n",
       "      <td>True</td>\n",
       "    </tr>\n",
       "    <tr>\n",
       "      <th>46139505</th>\n",
       "      <td>True</td>\n",
       "      <td>True</td>\n",
       "    </tr>\n",
       "    <tr>\n",
       "      <th>46380299</th>\n",
       "      <td>True</td>\n",
       "      <td>True</td>\n",
       "    </tr>\n",
       "    <tr>\n",
       "      <th>...</th>\n",
       "      <th>...</th>\n",
       "      <td>...</td>\n",
       "      <td>...</td>\n",
       "    </tr>\n",
       "    <tr>\n",
       "      <th rowspan=\"5\" valign=\"top\">relation</th>\n",
       "      <th>14368992</th>\n",
       "      <td>True</td>\n",
       "      <td>True</td>\n",
       "    </tr>\n",
       "    <tr>\n",
       "      <th>14647643</th>\n",
       "      <td>True</td>\n",
       "      <td>True</td>\n",
       "    </tr>\n",
       "    <tr>\n",
       "      <th>14904045</th>\n",
       "      <td>True</td>\n",
       "      <td>True</td>\n",
       "    </tr>\n",
       "    <tr>\n",
       "      <th>14995611</th>\n",
       "      <td>True</td>\n",
       "      <td>True</td>\n",
       "    </tr>\n",
       "    <tr>\n",
       "      <th>15442283</th>\n",
       "      <td>True</td>\n",
       "      <td>True</td>\n",
       "    </tr>\n",
       "  </tbody>\n",
       "</table>\n",
       "<p>34356 rows × 2 columns</p>\n",
       "</div>"
      ],
      "text/plain": [
       "                       geometry   name\n",
       "element_type osmid                    \n",
       "way          30260210      True   True\n",
       "             30260356      True  False\n",
       "             40438311      True   True\n",
       "             46139505      True   True\n",
       "             46380299      True   True\n",
       "...                         ...    ...\n",
       "relation     14368992      True   True\n",
       "             14647643      True   True\n",
       "             14904045      True   True\n",
       "             14995611      True   True\n",
       "             15442283      True   True\n",
       "\n",
       "[34356 rows x 2 columns]"
      ]
     },
     "execution_count": 14,
     "metadata": {},
     "output_type": "execute_result"
    }
   ],
   "source": [
    "buildings_save == buildings_save_backup"
   ]
  },
  {
   "cell_type": "code",
   "execution_count": 10,
   "id": "28d58fea-4233-4426-ba32-5c4b84ea11d4",
   "metadata": {
    "tags": []
   },
   "outputs": [
    {
     "data": {
      "text/html": [
       "<div>\n",
       "<style scoped>\n",
       "    .dataframe tbody tr th:only-of-type {\n",
       "        vertical-align: middle;\n",
       "    }\n",
       "\n",
       "    .dataframe tbody tr th {\n",
       "        vertical-align: top;\n",
       "    }\n",
       "\n",
       "    .dataframe thead th {\n",
       "        text-align: right;\n",
       "    }\n",
       "</style>\n",
       "<table border=\"1\" class=\"dataframe\">\n",
       "  <thead>\n",
       "    <tr style=\"text-align: right;\">\n",
       "      <th></th>\n",
       "      <th></th>\n",
       "      <th>geometry</th>\n",
       "      <th>name</th>\n",
       "    </tr>\n",
       "    <tr>\n",
       "      <th>element_type</th>\n",
       "      <th>osmid</th>\n",
       "      <th></th>\n",
       "      <th></th>\n",
       "    </tr>\n",
       "  </thead>\n",
       "  <tbody>\n",
       "    <tr>\n",
       "      <th rowspan=\"5\" valign=\"top\">way</th>\n",
       "      <th>30260210</th>\n",
       "      <td>POLYGON ((-83.04505 42.32978, -83.04502 42.329...</td>\n",
       "      <td>Ally Detroit Center</td>\n",
       "    </tr>\n",
       "    <tr>\n",
       "      <th>30260356</th>\n",
       "      <td>POLYGON ((-83.05178 42.33290, -83.05181 42.332...</td>\n",
       "      <td>NaN</td>\n",
       "    </tr>\n",
       "    <tr>\n",
       "      <th>40438311</th>\n",
       "      <td>POLYGON ((-83.05665 42.39805, -83.05681 42.398...</td>\n",
       "      <td>Polish Village Café</td>\n",
       "    </tr>\n",
       "    <tr>\n",
       "      <th>46139505</th>\n",
       "      <td>POLYGON ((-83.05399 42.33887, -83.05323 42.339...</td>\n",
       "      <td>Comerica Garage</td>\n",
       "    </tr>\n",
       "    <tr>\n",
       "      <th>46380299</th>\n",
       "      <td>POLYGON ((-83.05469 42.32548, -83.05523 42.325...</td>\n",
       "      <td>900 West Jefferson Garage</td>\n",
       "    </tr>\n",
       "    <tr>\n",
       "      <th>...</th>\n",
       "      <th>...</th>\n",
       "      <td>...</td>\n",
       "      <td>...</td>\n",
       "    </tr>\n",
       "    <tr>\n",
       "      <th rowspan=\"5\" valign=\"top\">relation</th>\n",
       "      <th>14368992</th>\n",
       "      <td>POLYGON ((-83.01843 42.35857, -83.01847 42.358...</td>\n",
       "      <td>New Liberty Baptist Church</td>\n",
       "    </tr>\n",
       "    <tr>\n",
       "      <th>14647643</th>\n",
       "      <td>MULTIPOLYGON (((-83.07522 42.33554, -83.07518 ...</td>\n",
       "      <td>Spaulding Court</td>\n",
       "    </tr>\n",
       "    <tr>\n",
       "      <th>14904045</th>\n",
       "      <td>POLYGON ((-83.00800 42.34081, -83.00761 42.340...</td>\n",
       "      <td>Captain of the Port</td>\n",
       "    </tr>\n",
       "    <tr>\n",
       "      <th>14995611</th>\n",
       "      <td>POLYGON ((-83.00638 42.38528, -83.00627 42.385...</td>\n",
       "      <td>Bethel Baptist Church East</td>\n",
       "    </tr>\n",
       "    <tr>\n",
       "      <th>15442283</th>\n",
       "      <td>MULTIPOLYGON (((-83.06996 42.33055, -83.07045 ...</td>\n",
       "      <td>The Eleventh</td>\n",
       "    </tr>\n",
       "  </tbody>\n",
       "</table>\n",
       "<p>34356 rows × 2 columns</p>\n",
       "</div>"
      ],
      "text/plain": [
       "                                                                geometry   \n",
       "element_type osmid                                                         \n",
       "way          30260210  POLYGON ((-83.04505 42.32978, -83.04502 42.329...  \\\n",
       "             30260356  POLYGON ((-83.05178 42.33290, -83.05181 42.332...   \n",
       "             40438311  POLYGON ((-83.05665 42.39805, -83.05681 42.398...   \n",
       "             46139505  POLYGON ((-83.05399 42.33887, -83.05323 42.339...   \n",
       "             46380299  POLYGON ((-83.05469 42.32548, -83.05523 42.325...   \n",
       "...                                                                  ...   \n",
       "relation     14368992  POLYGON ((-83.01843 42.35857, -83.01847 42.358...   \n",
       "             14647643  MULTIPOLYGON (((-83.07522 42.33554, -83.07518 ...   \n",
       "             14904045  POLYGON ((-83.00800 42.34081, -83.00761 42.340...   \n",
       "             14995611  POLYGON ((-83.00638 42.38528, -83.00627 42.385...   \n",
       "             15442283  MULTIPOLYGON (((-83.06996 42.33055, -83.07045 ...   \n",
       "\n",
       "                                             name  \n",
       "element_type osmid                                 \n",
       "way          30260210         Ally Detroit Center  \n",
       "             30260356                         NaN  \n",
       "             40438311         Polish Village Café  \n",
       "             46139505             Comerica Garage  \n",
       "             46380299   900 West Jefferson Garage  \n",
       "...                                           ...  \n",
       "relation     14368992  New Liberty Baptist Church  \n",
       "             14647643             Spaulding Court  \n",
       "             14904045         Captain of the Port  \n",
       "             14995611  Bethel Baptist Church East  \n",
       "             15442283                The Eleventh  \n",
       "\n",
       "[34356 rows x 2 columns]"
      ]
     },
     "execution_count": 10,
     "metadata": {},
     "output_type": "execute_result"
    }
   ],
   "source": [
    "buildings_save_backup = buildings_save.copy()\n",
    "buildings_save_backup"
   ]
  },
  {
   "cell_type": "code",
   "execution_count": 8,
   "id": "dc3fde58-6d38-4783-a4bf-e09271c53087",
   "metadata": {
    "tags": []
   },
   "outputs": [
    {
     "name": "stdout",
     "output_type": "stream",
     "text": [
      "Empty DataFrame\n",
      "Columns: [(Col3, subcol1), (Col2, subcol2), (Col1, subcol2)]\n",
      "Index: []\n"
     ]
    }
   ],
   "source": [
    "import pandas as pd\n",
    "\n",
    "# Column MultiIndex.\n",
    "idx = pd.MultiIndex(levels=[['Col1', 'Col2', 'Col3'], ['subcol1', 'subcol2']], \n",
    "                    codes=[[2, 1, 0], [0, 1, 1]])\n",
    "\n",
    "df = pd.DataFrame(columns=range(len(idx)))\n",
    "df.columns = idx\n",
    "print(df)"
   ]
  },
  {
   "cell_type": "code",
   "execution_count": 9,
   "id": "26b5c3e8-92c3-4494-9d73-750bb6577caa",
   "metadata": {
    "tags": []
   },
   "outputs": [
    {
     "data": {
      "text/html": [
       "<div>\n",
       "<style scoped>\n",
       "    .dataframe tbody tr th:only-of-type {\n",
       "        vertical-align: middle;\n",
       "    }\n",
       "\n",
       "    .dataframe tbody tr th {\n",
       "        vertical-align: top;\n",
       "    }\n",
       "\n",
       "    .dataframe thead tr th {\n",
       "        text-align: left;\n",
       "    }\n",
       "</style>\n",
       "<table border=\"1\" class=\"dataframe\">\n",
       "  <thead>\n",
       "    <tr>\n",
       "      <th></th>\n",
       "      <th>Col3</th>\n",
       "      <th>Col2</th>\n",
       "      <th>Col1</th>\n",
       "    </tr>\n",
       "    <tr>\n",
       "      <th></th>\n",
       "      <th>subcol1</th>\n",
       "      <th>subcol2</th>\n",
       "      <th>subcol2</th>\n",
       "    </tr>\n",
       "  </thead>\n",
       "  <tbody>\n",
       "  </tbody>\n",
       "</table>\n",
       "</div>"
      ],
      "text/plain": [
       "Empty DataFrame\n",
       "Columns: [(Col3, subcol1), (Col2, subcol2), (Col1, subcol2)]\n",
       "Index: []"
      ]
     },
     "execution_count": 9,
     "metadata": {},
     "output_type": "execute_result"
    }
   ],
   "source": [
    "df"
   ]
  },
  {
   "cell_type": "code",
   "execution_count": 7,
   "id": "999d943c-0ca3-486c-9b7c-facb4ed0292b",
   "metadata": {
    "tags": []
   },
   "outputs": [
    {
     "data": {
      "text/html": [
       "<div>\n",
       "<style scoped>\n",
       "    .dataframe tbody tr th:only-of-type {\n",
       "        vertical-align: middle;\n",
       "    }\n",
       "\n",
       "    .dataframe tbody tr th {\n",
       "        vertical-align: top;\n",
       "    }\n",
       "\n",
       "    .dataframe thead th {\n",
       "        text-align: right;\n",
       "    }\n",
       "</style>\n",
       "<table border=\"1\" class=\"dataframe\">\n",
       "  <thead>\n",
       "    <tr style=\"text-align: right;\">\n",
       "      <th></th>\n",
       "      <th></th>\n",
       "      <th>geometry</th>\n",
       "      <th>name</th>\n",
       "    </tr>\n",
       "    <tr>\n",
       "      <th>element_type</th>\n",
       "      <th>osmid</th>\n",
       "      <th></th>\n",
       "      <th></th>\n",
       "    </tr>\n",
       "  </thead>\n",
       "  <tbody>\n",
       "    <tr>\n",
       "      <th rowspan=\"5\" valign=\"top\">node</th>\n",
       "      <th>367815760</th>\n",
       "      <td>POINT (-83.06268 42.35176)</td>\n",
       "      <td>Canfield Audio Visual Building</td>\n",
       "    </tr>\n",
       "    <tr>\n",
       "      <th>2630768462</th>\n",
       "      <td>POINT (-83.07533 42.35117)</td>\n",
       "      <td>Freedom Place</td>\n",
       "    </tr>\n",
       "    <tr>\n",
       "      <th>2684741883</th>\n",
       "      <td>POINT (-83.07016 42.34433)</td>\n",
       "      <td>Woodbridge Senior Village</td>\n",
       "    </tr>\n",
       "    <tr>\n",
       "      <th>3838342342</th>\n",
       "      <td>POINT (-83.04992 42.33354)</td>\n",
       "      <td>Detroit Institute of Music Education</td>\n",
       "    </tr>\n",
       "    <tr>\n",
       "      <th>3868255827</th>\n",
       "      <td>POINT (-83.05042 42.35823)</td>\n",
       "      <td>Diggs Homes</td>\n",
       "    </tr>\n",
       "    <tr>\n",
       "      <th>...</th>\n",
       "      <th>...</th>\n",
       "      <td>...</td>\n",
       "      <td>...</td>\n",
       "    </tr>\n",
       "    <tr>\n",
       "      <th rowspan=\"5\" valign=\"top\">relation</th>\n",
       "      <th>14368992</th>\n",
       "      <td>POLYGON ((-83.01843 42.35857, -83.01847 42.358...</td>\n",
       "      <td>New Liberty Baptist Church</td>\n",
       "    </tr>\n",
       "    <tr>\n",
       "      <th>14647643</th>\n",
       "      <td>MULTIPOLYGON (((-83.07522 42.33554, -83.07518 ...</td>\n",
       "      <td>Spaulding Court</td>\n",
       "    </tr>\n",
       "    <tr>\n",
       "      <th>14904045</th>\n",
       "      <td>POLYGON ((-83.00800 42.34081, -83.00761 42.340...</td>\n",
       "      <td>Captain of the Port</td>\n",
       "    </tr>\n",
       "    <tr>\n",
       "      <th>14995611</th>\n",
       "      <td>POLYGON ((-83.00638 42.38528, -83.00627 42.385...</td>\n",
       "      <td>Bethel Baptist Church East</td>\n",
       "    </tr>\n",
       "    <tr>\n",
       "      <th>15442283</th>\n",
       "      <td>MULTIPOLYGON (((-83.06996 42.33055, -83.07045 ...</td>\n",
       "      <td>The Eleventh</td>\n",
       "    </tr>\n",
       "  </tbody>\n",
       "</table>\n",
       "<p>34363 rows × 2 columns</p>\n",
       "</div>"
      ],
      "text/plain": [
       "                                                                  geometry   \n",
       "element_type osmid                                                           \n",
       "node         367815760                          POINT (-83.06268 42.35176)  \\\n",
       "             2630768462                         POINT (-83.07533 42.35117)   \n",
       "             2684741883                         POINT (-83.07016 42.34433)   \n",
       "             3838342342                         POINT (-83.04992 42.33354)   \n",
       "             3868255827                         POINT (-83.05042 42.35823)   \n",
       "...                                                                    ...   \n",
       "relation     14368992    POLYGON ((-83.01843 42.35857, -83.01847 42.358...   \n",
       "             14647643    MULTIPOLYGON (((-83.07522 42.33554, -83.07518 ...   \n",
       "             14904045    POLYGON ((-83.00800 42.34081, -83.00761 42.340...   \n",
       "             14995611    POLYGON ((-83.00638 42.38528, -83.00627 42.385...   \n",
       "             15442283    MULTIPOLYGON (((-83.06996 42.33055, -83.07045 ...   \n",
       "\n",
       "                                                         name  \n",
       "element_type osmid                                             \n",
       "node         367815760         Canfield Audio Visual Building  \n",
       "             2630768462                         Freedom Place  \n",
       "             2684741883             Woodbridge Senior Village  \n",
       "             3838342342  Detroit Institute of Music Education  \n",
       "             3868255827                           Diggs Homes  \n",
       "...                                                       ...  \n",
       "relation     14368992              New Liberty Baptist Church  \n",
       "             14647643                         Spaulding Court  \n",
       "             14904045                     Captain of the Port  \n",
       "             14995611              Bethel Baptist Church East  \n",
       "             15442283                            The Eleventh  \n",
       "\n",
       "[34363 rows x 2 columns]"
      ]
     },
     "execution_count": 7,
     "metadata": {},
     "output_type": "execute_result"
    }
   ],
   "source": [
    "buildings"
   ]
  },
  {
   "cell_type": "code",
   "execution_count": 6,
   "id": "5222dafc-e776-4b0d-9a44-f9395652b19c",
   "metadata": {
    "tags": []
   },
   "outputs": [
    {
     "data": {
      "text/html": [
       "<div>\n",
       "<style scoped>\n",
       "    .dataframe tbody tr th:only-of-type {\n",
       "        vertical-align: middle;\n",
       "    }\n",
       "\n",
       "    .dataframe tbody tr th {\n",
       "        vertical-align: top;\n",
       "    }\n",
       "\n",
       "    .dataframe thead th {\n",
       "        text-align: right;\n",
       "    }\n",
       "</style>\n",
       "<table border=\"1\" class=\"dataframe\">\n",
       "  <thead>\n",
       "    <tr style=\"text-align: right;\">\n",
       "      <th></th>\n",
       "      <th></th>\n",
       "      <th>geometry</th>\n",
       "      <th>name</th>\n",
       "    </tr>\n",
       "    <tr>\n",
       "      <th>element_type</th>\n",
       "      <th>osmid</th>\n",
       "      <th></th>\n",
       "      <th></th>\n",
       "    </tr>\n",
       "  </thead>\n",
       "  <tbody>\n",
       "    <tr>\n",
       "      <th rowspan=\"5\" valign=\"top\">way</th>\n",
       "      <th>30260210</th>\n",
       "      <td>POLYGON ((-83.04505 42.32978, -83.04502 42.329...</td>\n",
       "      <td>Ally Detroit Center</td>\n",
       "    </tr>\n",
       "    <tr>\n",
       "      <th>30260356</th>\n",
       "      <td>POLYGON ((-83.05178 42.33290, -83.05181 42.332...</td>\n",
       "      <td>NaN</td>\n",
       "    </tr>\n",
       "    <tr>\n",
       "      <th>40438311</th>\n",
       "      <td>POLYGON ((-83.05665 42.39805, -83.05681 42.398...</td>\n",
       "      <td>Polish Village Café</td>\n",
       "    </tr>\n",
       "    <tr>\n",
       "      <th>46139505</th>\n",
       "      <td>POLYGON ((-83.05399 42.33887, -83.05323 42.339...</td>\n",
       "      <td>Comerica Garage</td>\n",
       "    </tr>\n",
       "    <tr>\n",
       "      <th>46380299</th>\n",
       "      <td>POLYGON ((-83.05469 42.32548, -83.05523 42.325...</td>\n",
       "      <td>900 West Jefferson Garage</td>\n",
       "    </tr>\n",
       "    <tr>\n",
       "      <th>...</th>\n",
       "      <th>...</th>\n",
       "      <td>...</td>\n",
       "      <td>...</td>\n",
       "    </tr>\n",
       "    <tr>\n",
       "      <th rowspan=\"5\" valign=\"top\">relation</th>\n",
       "      <th>14368992</th>\n",
       "      <td>POLYGON ((-83.01843 42.35857, -83.01847 42.358...</td>\n",
       "      <td>New Liberty Baptist Church</td>\n",
       "    </tr>\n",
       "    <tr>\n",
       "      <th>14647643</th>\n",
       "      <td>MULTIPOLYGON (((-83.07522 42.33554, -83.07518 ...</td>\n",
       "      <td>Spaulding Court</td>\n",
       "    </tr>\n",
       "    <tr>\n",
       "      <th>14904045</th>\n",
       "      <td>POLYGON ((-83.00800 42.34081, -83.00761 42.340...</td>\n",
       "      <td>Captain of the Port</td>\n",
       "    </tr>\n",
       "    <tr>\n",
       "      <th>14995611</th>\n",
       "      <td>POLYGON ((-83.00638 42.38528, -83.00627 42.385...</td>\n",
       "      <td>Bethel Baptist Church East</td>\n",
       "    </tr>\n",
       "    <tr>\n",
       "      <th>15442283</th>\n",
       "      <td>MULTIPOLYGON (((-83.06996 42.33055, -83.07045 ...</td>\n",
       "      <td>The Eleventh</td>\n",
       "    </tr>\n",
       "  </tbody>\n",
       "</table>\n",
       "<p>34356 rows × 2 columns</p>\n",
       "</div>"
      ],
      "text/plain": [
       "                                                                geometry   \n",
       "element_type osmid                                                         \n",
       "way          30260210  POLYGON ((-83.04505 42.32978, -83.04502 42.329...  \\\n",
       "             30260356  POLYGON ((-83.05178 42.33290, -83.05181 42.332...   \n",
       "             40438311  POLYGON ((-83.05665 42.39805, -83.05681 42.398...   \n",
       "             46139505  POLYGON ((-83.05399 42.33887, -83.05323 42.339...   \n",
       "             46380299  POLYGON ((-83.05469 42.32548, -83.05523 42.325...   \n",
       "...                                                                  ...   \n",
       "relation     14368992  POLYGON ((-83.01843 42.35857, -83.01847 42.358...   \n",
       "             14647643  MULTIPOLYGON (((-83.07522 42.33554, -83.07518 ...   \n",
       "             14904045  POLYGON ((-83.00800 42.34081, -83.00761 42.340...   \n",
       "             14995611  POLYGON ((-83.00638 42.38528, -83.00627 42.385...   \n",
       "             15442283  MULTIPOLYGON (((-83.06996 42.33055, -83.07045 ...   \n",
       "\n",
       "                                             name  \n",
       "element_type osmid                                 \n",
       "way          30260210         Ally Detroit Center  \n",
       "             30260356                         NaN  \n",
       "             40438311         Polish Village Café  \n",
       "             46139505             Comerica Garage  \n",
       "             46380299   900 West Jefferson Garage  \n",
       "...                                           ...  \n",
       "relation     14368992  New Liberty Baptist Church  \n",
       "             14647643             Spaulding Court  \n",
       "             14904045         Captain of the Port  \n",
       "             14995611  Bethel Baptist Church East  \n",
       "             15442283                The Eleventh  \n",
       "\n",
       "[34356 rows x 2 columns]"
      ]
     },
     "execution_count": 6,
     "metadata": {},
     "output_type": "execute_result"
    }
   ],
   "source": [
    "buildings_save"
   ]
  },
  {
   "cell_type": "markdown",
   "id": "f027e479-2b54-4212-9a77-ee7f409264cd",
   "metadata": {},
   "source": [
    "# EXTRA CODE"
   ]
  },
  {
   "cell_type": "code",
   "execution_count": 18,
   "id": "c8e5946f-7209-418f-99ff-a39fb5fbc4a2",
   "metadata": {
    "tags": []
   },
   "outputs": [
    {
     "data": {
      "text/plain": [
       "True"
      ]
     },
     "execution_count": 18,
     "metadata": {},
     "output_type": "execute_result"
    }
   ],
   "source": [
    "out_file = data_folder / \"1_buildings_streets\" / (city + \" - Buildings.gpkg\")\n",
    "out_file.exists()"
   ]
  },
  {
   "cell_type": "code",
   "execution_count": 19,
   "id": "0a583cfc-ddcd-4aee-a500-1decab9a7d66",
   "metadata": {
    "tags": []
   },
   "outputs": [
    {
     "data": {
      "text/plain": [
       "PosixPath('../data/1_buildings_streets/Pittsburgh - Buildings.gpkg')"
      ]
     },
     "execution_count": 19,
     "metadata": {},
     "output_type": "execute_result"
    }
   ],
   "source": [
    "out_file"
   ]
  },
  {
   "cell_type": "code",
   "execution_count": 20,
   "id": "0dc4f4ce-8df0-4a60-9b7d-71f590020d0d",
   "metadata": {
    "tags": []
   },
   "outputs": [],
   "source": [
    "out_file.unlink()"
   ]
  },
  {
   "cell_type": "code",
   "execution_count": null,
   "id": "efb58d03-592d-41a7-bf9f-20a4e838395d",
   "metadata": {},
   "outputs": [],
   "source": []
  }
 ],
 "metadata": {
  "kernelspec": {
   "display_name": "Python 3 (ipykernel)",
   "language": "python",
   "name": "python3"
  },
  "language_info": {
   "codemirror_mode": {
    "name": "ipython",
    "version": 3
   },
   "file_extension": ".py",
   "mimetype": "text/x-python",
   "name": "python",
   "nbconvert_exporter": "python",
   "pygments_lexer": "ipython3",
   "version": "3.10.11"
  }
 },
 "nbformat": 4,
 "nbformat_minor": 5
}
