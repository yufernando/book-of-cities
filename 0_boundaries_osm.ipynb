{
 "cells": [
  {
   "cell_type": "markdown",
   "id": "8e8e8e01-684e-4466-bdc7-b413f9ee7572",
   "metadata": {},
   "source": [
    "# Boundaries\n",
    "\n",
    "Get boundaries from OpenStreetMaps. Note: for US cities we are using Census tracts from the US Census.\n",
    "\n",
    "Use Census FTP Server:\n",
    "https://www2.census.gov/geo/tiger/TIGER_RD18/STATE/\n",
    "\n",
    "Example for New York: get the following file\n",
    "- 36_NEW_YORK/36/tl_rd22_36_tract.zip"
   ]
  },
  {
   "cell_type": "markdown",
   "id": "f946a342-18c4-473b-9df4-d31700f4c397",
   "metadata": {},
   "source": [
    "# Import modules"
   ]
  },
  {
   "cell_type": "code",
   "execution_count": 1,
   "id": "0925f345-7084-47c1-861b-abe971232553",
   "metadata": {
    "tags": []
   },
   "outputs": [
    {
     "ename": "ModuleNotFoundError",
     "evalue": "No module named 'geopandas'",
     "output_type": "error",
     "traceback": [
      "\u001b[0;31m---------------------------------------------------------------------------\u001b[0m",
      "\u001b[0;31mModuleNotFoundError\u001b[0m                       Traceback (most recent call last)",
      "Cell \u001b[0;32mIn[1], line 2\u001b[0m\n\u001b[1;32m      1\u001b[0m \u001b[38;5;28;01mimport\u001b[39;00m \u001b[38;5;21;01mpandas\u001b[39;00m \u001b[38;5;28;01mas\u001b[39;00m \u001b[38;5;21;01mpd\u001b[39;00m\n\u001b[0;32m----> 2\u001b[0m \u001b[38;5;28;01mimport\u001b[39;00m \u001b[38;5;21;01mgeopandas\u001b[39;00m \u001b[38;5;28;01mas\u001b[39;00m \u001b[38;5;21;01mgpd\u001b[39;00m\n\u001b[1;32m      3\u001b[0m \u001b[38;5;28;01mimport\u001b[39;00m \u001b[38;5;21;01mosmnx\u001b[39;00m \u001b[38;5;28;01mas\u001b[39;00m \u001b[38;5;21;01mox\u001b[39;00m\n\u001b[1;32m      4\u001b[0m \u001b[38;5;28;01mimport\u001b[39;00m \u001b[38;5;21;01mrequests\u001b[39;00m\n",
      "\u001b[0;31mModuleNotFoundError\u001b[0m: No module named 'geopandas'"
     ]
    }
   ],
   "source": [
    "import pandas as pd\n",
    "import geopandas as gpd\n",
    "import osmnx as ox\n",
    "import requests\n",
    "\n",
    "from osm2geojson import json2geojson\n",
    "from shapely.geometry import Point\n",
    "from geopy.geocoders import Nominatim\n",
    "from pathlib import Path"
   ]
  },
  {
   "cell_type": "markdown",
   "id": "045dd2ee-73b7-4357-aa0c-c6e8d52583b9",
   "metadata": {},
   "source": [
    "# Helper functions"
   ]
  },
  {
   "cell_type": "code",
   "execution_count": 2,
   "id": "2d5f60c6-6885-4c02-933b-9662e7965abf",
   "metadata": {
    "tags": []
   },
   "outputs": [],
   "source": [
    "def get_city_id(city_name):\n",
    "    geolocator = Nominatim(user_agent=\"get-city-id\")\n",
    "    geo_results = geolocator.geocode(city_name, exactly_one=False, limit=3)\n",
    "\n",
    "    city = None\n",
    "    for r in geo_results:\n",
    "        if r.raw.get(\"osm_type\") == \"relation\":\n",
    "            city = r\n",
    "            break\n",
    "            \n",
    "    if not city:\n",
    "        # print(\"No relations for city\", city_name)\n",
    "        raise ValueError(f\"No results found for city: {city_name}\")\n",
    "        return None\n",
    "\n",
    "    area_id = int(city.raw.get(\"osm_id\")) + 3600000000\n",
    "    return area_id"
   ]
  },
  {
   "cell_type": "markdown",
   "id": "b12d2fa4-271f-42ae-8a19-b085999a6cca",
   "metadata": {},
   "source": [
    "# Choose city"
   ]
  },
  {
   "cell_type": "code",
   "execution_count": 3,
   "id": "4c085e12-8a78-4a5b-a922-7b72055de51e",
   "metadata": {
    "tags": []
   },
   "outputs": [
    {
     "name": "stdout",
     "output_type": "stream",
     "text": [
      "City: Los Angeles\n"
     ]
    }
   ],
   "source": [
    "city_list = [\n",
    "    'Melbourne',\n",
    "    'Jerusalem',\n",
    "    'Buenos Aires',\n",
    "    'Paris',\n",
    "    'Rotterdam',\n",
    "    'Nashville',\n",
    "    'Singapore',\n",
    "    'Cape Town',\n",
    "    'New York',\n",
    "    'Los Angeles',\n",
    "    'Chicago',\n",
    "    'Boston',\n",
    "    'Austin',\n",
    "    'Seattle',\n",
    "    'Philadelphia',\n",
    "    'Pittsburgh',\n",
    "    'Washington DC',\n",
    "    'San Francisco',\n",
    "    'SF Bay Area ',\n",
    "    'Raleigh',\n",
    "    'Milwaukee',\n",
    "    'Portland',\n",
    "    'San Diego',\n",
    "    'Denver',\n",
    "    'Miami',\n",
    "    'Saint Louis',\n",
    "    'Houston',\n",
    "    'Atlanta',\n",
    "    'Phoenix',\n",
    "    'Detroit',\n",
    "    'Minneapolis',\n",
    "    'Savannah',\n",
    "    'Charlotte',\n",
    "    'Las Vegas',\n",
    "    'Cincinnati',\n",
    "    'Kansas City',\n",
    "    'Nashville']\n",
    "\n",
    "\n",
    "city = city_list[9]\n",
    "print(\"City:\", city)"
   ]
  },
  {
   "cell_type": "markdown",
   "id": "8bc36337-e813-4bbe-8c6d-4506355997d3",
   "metadata": {},
   "source": [
    "# Create query"
   ]
  },
  {
   "cell_type": "code",
   "execution_count": 4,
   "id": "b7e2b0ca-433a-4da3-915a-893c01c5c649",
   "metadata": {
    "tags": []
   },
   "outputs": [],
   "source": [
    "# Get city id from Nominatim\n",
    "city_id = get_city_id(city)"
   ]
  },
  {
   "cell_type": "code",
   "execution_count": 5,
   "id": "3175eb1d-979d-4d72-b2d4-2aab13baa48c",
   "metadata": {
    "tags": []
   },
   "outputs": [],
   "source": [
    "# id = city['id']\n",
    "# admin_level = city['admin_level']\n",
    "\n",
    "query = f\"\"\"\n",
    "[out:json][timeout:25];\n",
    "// fetch area to search in\n",
    "area(id:{city_id})->.searchArea;\n",
    "(\n",
    "  //node[\"admin_level\"=\"{{admin_level}}\"](area.searchArea);\n",
    "  //way[\"admin_level\"=\"{{admin_level}}\"](area.searchArea);\n",
    "  relation[\"admin_level\"=\"{{admin_level}}\"](area.searchArea);\n",
    ");\n",
    "out body;\n",
    ">;\n",
    "out skel qt;\n",
    "\"\"\""
   ]
  },
  {
   "cell_type": "markdown",
   "id": "2dd11fe5-22de-4787-bc11-1c0476a79ea4",
   "metadata": {},
   "source": [
    "## Make request"
   ]
  },
  {
   "cell_type": "code",
   "execution_count": 6,
   "id": "27783488-ac9c-4888-b7be-c0a374d73f2d",
   "metadata": {
    "tags": []
   },
   "outputs": [
    {
     "name": "stdout",
     "output_type": "stream",
     "text": [
      "admin_level: 10\n",
      "Success!\n"
     ]
    }
   ],
   "source": [
    "url = 'http://overpass-api.de/api/interpreter'  # Overpass API URL\n",
    "\n",
    "# Search for most granular admin_level\n",
    "for admin_level in reversed(range(11)):\n",
    "    print(\"admin_level:\", admin_level)\n",
    "    r = requests.get(url, params={'data': query.format(admin_level=admin_level)})\n",
    "    if r.json()['elements']:\n",
    "        print(\"Success!\")\n",
    "        break"
   ]
  },
  {
   "cell_type": "markdown",
   "id": "197e0362-1c9c-4696-8624-1143b01febbe",
   "metadata": {
    "tags": []
   },
   "source": [
    "## Save query data"
   ]
  },
  {
   "cell_type": "code",
   "execution_count": 7,
   "id": "d56ee786-31f9-44dc-b660-9a6ecf840348",
   "metadata": {
    "tags": []
   },
   "outputs": [],
   "source": [
    "out_dict = {'city':city, 'city_id':city_id, 'admin_level':admin_level}\n",
    "out_df = pd.DataFrame([out_dict])\n",
    "\n",
    "try:\n",
    "    df = pd.read_csv('query_data.csv')\n",
    "    if city in df['city'].unique():\n",
    "        df.loc[df['city']==city, 'city_id'] = city_id\n",
    "        df.loc[df['city']==city, 'admin_level'] = admin_level\n",
    "        out_df = df.copy()\n",
    "    else: \n",
    "        out_df = pd.concat([df, out_df])\n",
    "except FileNotFoundError:\n",
    "    pass\n",
    "    \n",
    "out_df.to_csv('query_data.csv', index=False)"
   ]
  },
  {
   "cell_type": "markdown",
   "id": "43c8a52f-f893-4537-9eb5-6a1828184f9e",
   "metadata": {},
   "source": [
    "# Clean results"
   ]
  },
  {
   "cell_type": "code",
   "execution_count": 8,
   "id": "0583b00f-cf81-40c9-b7a8-2ddbe445e17d",
   "metadata": {
    "tags": []
   },
   "outputs": [],
   "source": [
    "geojson = json2geojson(r.json())\n",
    "gdf = gpd.GeoDataFrame().from_features(geojson)\n",
    "\n",
    "gdf = gdf.loc[gdf['type'] == 'relation']\n",
    "\n",
    "# Filter only boundaries\n",
    "# mylist = []\n",
    "# for item in r.json()['elements']:\n",
    "#     try:\n",
    "#         if item['tags']['type'] == 'boundary':\n",
    "#             mylist.append(item)\n",
    "#     except KeyError:\n",
    "#         pass\n",
    "\n",
    "gdf = gdf.set_crs('epsg:4326')\n",
    "gdf = gdf.loc[gdf['type'] == 'relation']"
   ]
  },
  {
   "cell_type": "markdown",
   "id": "9ad8d1b1-49f8-4d5f-b4f7-f849d1f60c0b",
   "metadata": {
    "tags": []
   },
   "source": [
    "# Save"
   ]
  },
  {
   "cell_type": "code",
   "execution_count": 9,
   "id": "d4c3ce7d-7476-4fbe-a355-8db0eedd6af1",
   "metadata": {
    "tags": []
   },
   "outputs": [
    {
     "name": "stdout",
     "output_type": "stream",
     "text": [
      "Saved: ../data/admin-levels/Los Angeles.gpkg\n"
     ]
    }
   ],
   "source": [
    "data_folder = Path(\"../data\")\n",
    "\n",
    "out_file = data_folder / \"0_boundaries\" / (city + \".gpkg\")\n",
    "gdf.to_file(out_file, driver=\"GPKG\")\n",
    "print(\"Saved:\", out_file)"
   ]
  },
  {
   "cell_type": "code",
   "execution_count": null,
   "id": "0f623136-3f14-4453-962d-a2f2845a50c5",
   "metadata": {},
   "outputs": [],
   "source": []
  }
 ],
 "metadata": {
  "kernelspec": {
   "display_name": "Python 3 (ipykernel)",
   "language": "python",
   "name": "python3"
  },
  "language_info": {
   "codemirror_mode": {
    "name": "ipython",
    "version": 3
   },
   "file_extension": ".py",
   "mimetype": "text/x-python",
   "name": "python",
   "nbconvert_exporter": "python",
   "pygments_lexer": "ipython3",
   "version": "3.10.11"
  }
 },
 "nbformat": 4,
 "nbformat_minor": 5
}
