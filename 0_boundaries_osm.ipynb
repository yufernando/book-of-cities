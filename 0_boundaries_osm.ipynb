{
 "cells": [
  {
   "cell_type": "markdown",
   "id": "8e8e8e01-684e-4466-bdc7-b413f9ee7572",
   "metadata": {},
   "source": [
    "# Boundaries\n",
    "\n",
    "Get boundaries from OpenStreetMaps. Note: for US cities we are using Census tracts from the US Census.\n",
    "\n",
    "Use Census FTP Server:\n",
    "https://www2.census.gov/geo/tiger/TIGER_RD18/STATE/\n",
    "\n",
    "Example for New York: get the following file\n",
    "- 36_NEW_YORK/36/tl_rd22_36_tract.zip"
   ]
  },
  {
   "cell_type": "markdown",
   "id": "f946a342-18c4-473b-9df4-d31700f4c397",
   "metadata": {},
   "source": [
    "# Import modules"
   ]
  },
  {
   "cell_type": "code",
   "execution_count": 52,
   "id": "0925f345-7084-47c1-861b-abe971232553",
   "metadata": {
    "tags": []
   },
   "outputs": [],
   "source": [
    "import pandas as pd\n",
    "import geopandas as gpd\n",
    "import osmnx as ox\n",
    "import requests\n",
    "\n",
    "from osm2geojson import json2geojson\n",
    "from shapely.geometry import Point\n",
    "from geopy.geocoders import Nominatim\n",
    "from pathlib import Path"
   ]
  },
  {
   "cell_type": "markdown",
   "id": "045dd2ee-73b7-4357-aa0c-c6e8d52583b9",
   "metadata": {},
   "source": [
    "# Helper functions"
   ]
  },
  {
   "cell_type": "code",
   "execution_count": 53,
   "id": "2d5f60c6-6885-4c02-933b-9662e7965abf",
   "metadata": {
    "tags": []
   },
   "outputs": [],
   "source": [
    "def get_city_id(city_name):\n",
    "    geolocator = Nominatim(user_agent=\"get-city-id\")\n",
    "    geo_results = geolocator.geocode(city_name, exactly_one=False, limit=3)\n",
    "\n",
    "    city = None\n",
    "    for r in geo_results:\n",
    "        if r.raw.get(\"osm_type\") == \"relation\":\n",
    "            city = r\n",
    "            break\n",
    "            \n",
    "    if not city:\n",
    "        # print(\"No relations for city\", city_name)\n",
    "        raise ValueError(f\"No results found for city: {city_name}\")\n",
    "        return None\n",
    "\n",
    "    area_id = int(city.raw.get(\"osm_id\")) + 3600000000\n",
    "    return area_id"
   ]
  },
  {
   "cell_type": "markdown",
   "id": "b12d2fa4-271f-42ae-8a19-b085999a6cca",
   "metadata": {},
   "source": [
    "# Choose city"
   ]
  },
  {
   "cell_type": "code",
   "execution_count": 62,
   "id": "3388b335-a0c6-4671-bd4d-c4ab57600fce",
   "metadata": {
    "tags": []
   },
   "outputs": [
    {
     "name": "stdout",
     "output_type": "stream",
     "text": [
      "City: Rome\n"
     ]
    }
   ],
   "source": [
    "with open(\"cities_europe.txt\") as f:\n",
    "    city_list = [city.strip() for city in f.readlines()]\n",
    "\n",
    "city_list =city_list[10:]\n",
    "print(\"City:\", city)"
   ]
  },
  {
   "cell_type": "markdown",
   "id": "8bc36337-e813-4bbe-8c6d-4506355997d3",
   "metadata": {},
   "source": [
    "# Create query"
   ]
  },
  {
   "cell_type": "code",
   "execution_count": 27,
   "id": "782a834f-225f-4c90-a4fd-192095a11852",
   "metadata": {
    "tags": []
   },
   "outputs": [],
   "source": [
    "# Get city id from Nominatim\n",
    "city_id = get_city_id(city)\n",
    "\n",
    "# id = city['id']\n",
    "# admin_level = city['admin_level']\n",
    "\n",
    "query = f\"\"\"\n",
    "[out:json][timeout:25];\n",
    "// fetch area to search in\n",
    "area(id:{city_id})->.searchArea;\n",
    "(\n",
    "  //node[\"admin_level\"=\"{{admin_level}}\"](area.searchArea);\n",
    "  //way[\"admin_level\"=\"{{admin_level}}\"](area.searchArea);\n",
    "  relation[\"admin_level\"=\"{{admin_level}}\"](area.searchArea);\n",
    ");\n",
    "out body;\n",
    ">;\n",
    "out skel qt;\n",
    "\"\"\""
   ]
  },
  {
   "cell_type": "markdown",
   "id": "2dd11fe5-22de-4787-bc11-1c0476a79ea4",
   "metadata": {},
   "source": [
    "## Make request"
   ]
  },
  {
   "cell_type": "code",
   "execution_count": 28,
   "id": "27783488-ac9c-4888-b7be-c0a374d73f2d",
   "metadata": {
    "tags": []
   },
   "outputs": [
    {
     "name": "stdout",
     "output_type": "stream",
     "text": [
      "admin_level: 10\n",
      "Success!\n"
     ]
    }
   ],
   "source": [
    "url = 'http://overpass-api.de/api/interpreter'  # Overpass API URL\n",
    "\n",
    "# Search for most granular admin_level\n",
    "for admin_level in reversed(range(11)):\n",
    "    print(\"admin_level:\", admin_level)\n",
    "    r = requests.get(url, params={'data': query.format(admin_level=admin_level)})\n",
    "    if r.json()['elements']:\n",
    "        print(\"Success!\")\n",
    "        break"
   ]
  },
  {
   "cell_type": "markdown",
   "id": "197e0362-1c9c-4696-8624-1143b01febbe",
   "metadata": {
    "tags": []
   },
   "source": [
    "## Save query data"
   ]
  },
  {
   "cell_type": "code",
   "execution_count": 29,
   "id": "d56ee786-31f9-44dc-b660-9a6ecf840348",
   "metadata": {
    "tags": []
   },
   "outputs": [],
   "source": [
    "out_dict = {'city':city, 'city_id':city_id, 'admin_level':admin_level}\n",
    "out_df = pd.DataFrame([out_dict])\n",
    "\n",
    "try:\n",
    "    df = pd.read_csv('query_data.csv')\n",
    "    if city in df['city'].unique():\n",
    "        df.loc[df['city']==city, 'city_id'] = city_id\n",
    "        df.loc[df['city']==city, 'admin_level'] = admin_level\n",
    "        out_df = df.copy()\n",
    "    else: \n",
    "        out_df = pd.concat([df, out_df])\n",
    "except FileNotFoundError:\n",
    "    pass\n",
    "    \n",
    "out_df.to_csv('query_data.csv', index=False)"
   ]
  },
  {
   "cell_type": "markdown",
   "id": "43c8a52f-f893-4537-9eb5-6a1828184f9e",
   "metadata": {},
   "source": [
    "# Clean results"
   ]
  },
  {
   "cell_type": "code",
   "execution_count": 39,
   "id": "fde525f6-ed5c-47b5-abd3-ca643fa7cacc",
   "metadata": {
    "tags": []
   },
   "outputs": [],
   "source": [
    "geojson = json2geojson(r.json())\n",
    "gdf = gpd.GeoDataFrame().from_features(geojson)\n",
    "gdf = gdf.loc[gdf.geom_type == \"MultiPolygon\"]"
   ]
  },
  {
   "cell_type": "code",
   "execution_count": 40,
   "id": "8db295c4-0f4d-40cc-b1fd-4a8f14119f8b",
   "metadata": {
    "tags": []
   },
   "outputs": [],
   "source": [
    "# gdf = gdf.loc[gdf['type'] == 'relation']\n",
    "\n",
    "# Filter only boundaries\n",
    "# mylist = []\n",
    "# for item in r.json()['elements']:\n",
    "#     try:\n",
    "#         if item['tags']['type'] == 'boundary':\n",
    "#             mylist.append(item)\n",
    "#     except KeyError:\n",
    "#         pass\n",
    "\n",
    "gdf = gdf.set_crs('epsg:4326')\n",
    "# gdf = gdf.loc[gdf['type'] == 'relation']\n",
    "\n",
    "assert all(gdf['type'] == \"relation\")"
   ]
  },
  {
   "cell_type": "markdown",
   "id": "9ad8d1b1-49f8-4d5f-b4f7-f849d1f60c0b",
   "metadata": {
    "tags": []
   },
   "source": [
    "# Save"
   ]
  },
  {
   "cell_type": "code",
   "execution_count": 49,
   "id": "564e786a-9a5f-4873-8dc6-679561659e29",
   "metadata": {
    "tags": []
   },
   "outputs": [],
   "source": [
    "data_folder = Path(\"../data\")\n",
    "\n",
    "out_file = data_folder / \"0_boundaries\" / city / (city + \".gpkg\")\n",
    "if not out_file.parent.exists():\n",
    "    out_file.parent.mkdir(parents=True)\n",
    "\n",
    "gdf.to_file(out_file, driver=\"GPKG\")\n",
    "print(\"Saved:\", out_file)"
   ]
  },
  {
   "cell_type": "markdown",
   "id": "9620664c-e24a-46ea-a195-4d6f0d03c24d",
   "metadata": {},
   "source": [
    "# EXTRA CODE"
   ]
  },
  {
   "cell_type": "code",
   "execution_count": null,
   "id": "fe2f8793-24a6-4c92-afcb-ecd13f80c9ea",
   "metadata": {},
   "outputs": [],
   "source": [
    "# city_list = [\n",
    "#     'Melbourne',\n",
    "#     'Jerusalem',\n",
    "#     'Buenos Aires',\n",
    "#     'Paris',\n",
    "#     'Rotterdam',\n",
    "#     'Nashville',\n",
    "#     'Singapore',\n",
    "#     'Cape Town',\n",
    "#     'New York',\n",
    "#     'Los Angeles',\n",
    "#     'Chicago',\n",
    "#     'Boston',\n",
    "#     'Austin',\n",
    "#     'Seattle',\n",
    "#     'Philadelphia',\n",
    "#     'Pittsburgh',\n",
    "#     'Washington DC',\n",
    "#     'San Francisco',\n",
    "#     'SF Bay Area ',\n",
    "#     'Raleigh',\n",
    "#     'Milwaukee',\n",
    "#     'Portland',\n",
    "#     'San Diego',\n",
    "#     'Denver',\n",
    "#     'Miami',\n",
    "#     'Saint Louis',\n",
    "#     'Houston',\n",
    "#     'Atlanta',\n",
    "#     'Phoenix',\n",
    "#     'Detroit',\n",
    "#     'Minneapolis',\n",
    "#     'Savannah',\n",
    "#     'Charlotte',\n",
    "#     'Las Vegas',\n",
    "#     'Cincinnati',\n",
    "#     'Kansas City',\n",
    "#     'Nashville']"
   ]
  }
 ],
 "metadata": {
  "kernelspec": {
   "display_name": "Python 3 (ipykernel)",
   "language": "python",
   "name": "python3"
  },
  "language_info": {
   "codemirror_mode": {
    "name": "ipython",
    "version": 3
   },
   "file_extension": ".py",
   "mimetype": "text/x-python",
   "name": "python",
   "nbconvert_exporter": "python",
   "pygments_lexer": "ipython3",
   "version": "3.10.11"
  }
 },
 "nbformat": 4,
 "nbformat_minor": 5
}
